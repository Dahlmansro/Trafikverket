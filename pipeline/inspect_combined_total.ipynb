{
 "cells": [
  {
   "cell_type": "code",
   "execution_count": null,
   "id": "38a28cfe",
   "metadata": {},
   "outputs": [
    {
     "ename": "",
     "evalue": "",
     "output_type": "error",
     "traceback": [
      "\u001b[1;31mRunning cells with '.venv (3.12.4) (Python 3.12.4)' requires the ipykernel package.\n",
      "\u001b[1;31mInstall 'ipykernel' into the Python environment. \n",
      "\u001b[1;31mCommand: 'c:/Users/CD/Trafikverket/.venv/Scripts/python.exe -m pip install ipykernel -U --force-reinstall'"
     ]
    }
   ],
   "source": [
    "import pandas as pd\n",
    "from azure.storage.filedatalake import DataLakeServiceClient\n",
    "from io import BytesIO\n",
    "import config as cfg\n",
    "\n",
    "def read_parquet_from_adls(path):\n",
    "    svc = DataLakeServiceClient(\n",
    "        account_url=f\"https://{cfg.STORAGE_ACCOUNT_NAME}.dfs.core.windows.net\",\n",
    "        credential=cfg.STORAGE_ACCOUNT_KEY\n",
    "    )\n",
    "    fs = svc.get_file_system_client(cfg.CONTAINER_NAME)\n",
    "    fc = fs.get_file_client(path)\n",
    "    data = fc.download_file().readall()\n",
    "    buf = BytesIO(data)\n",
    "    return pd.read_parquet(buf)\n",
    "\n",
    "df = read_parquet_from_adls(\"curated/trips_combined_total.parquet\")\n",
    "df.head()\n"
   ]
  }
 ],
 "metadata": {
  "kernelspec": {
   "display_name": ".venv (3.12.4)",
   "language": "python",
   "name": "python3"
  },
  "language_info": {
   "codemirror_mode": {
    "name": "ipython",
    "version": 3
   },
   "file_extension": ".py",
   "mimetype": "text/x-python",
   "name": "python",
   "nbconvert_exporter": "python",
   "pygments_lexer": "ipython3",
   "version": "3.12.4"
  }
 },
 "nbformat": 4,
 "nbformat_minor": 5
}
