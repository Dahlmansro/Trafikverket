{
 "cells": [
  {
   "cell_type": "code",
   "execution_count": 1,
   "id": "37ab9924",
   "metadata": {},
   "outputs": [],
   "source": [
    "import pandas as pd\n",
    "import numpy as np\n",
    "import matplotlib.pyplot as plt\n",
    "import seaborn as sns\n",
    "import os\n",
    "from sklearn.model_selection import train_test_split, cross_val_score, GridSearchCV\n",
    "from sklearn.preprocessing import StandardScaler, LabelEncoder\n",
    "from sklearn.ensemble import RandomForestRegressor, GradientBoostingRegressor\n",
    "from sklearn.linear_model import LinearRegression, Ridge, Lasso\n",
    "from sklearn.metrics import mean_absolute_error, mean_squared_error, r2_score\n",
    "\n",
    "from sklearn.linear_model import LogisticRegression\n",
    "from sklearn.ensemble import RandomForestClassifier, GradientBoostingClassifier\n",
    "from xgboost import XGBClassifier \n",
    "from sklearn.metrics import accuracy_score, precision_score, recall_score, f1_score, roc_auc_score, confusion_matrix\n",
    "from sklearn.metrics import roc_curve, auc\n",
    "\n",
    "from xgboost import XGBRegressor\n",
    "import warnings\n",
    "warnings.filterwarnings('ignore')\n",
    "\n",
    "# Sätt stil för plots\n",
    "sns.set_style('whitegrid')\n",
    "plt.rcParams['figure.figsize'] = (12, 6)"
   ]
  },
  {
   "cell_type": "markdown",
   "id": "566ff725",
   "metadata": {},
   "source": [
    "### Ladda data"
   ]
  },
  {
   "cell_type": "code",
   "execution_count": 2,
   "id": "a676f775",
   "metadata": {},
   "outputs": [],
   "source": [
    "file_path = os.path.join('data', 'trips_combined_total.parquet')\n",
    "df_processed = pd.read_parquet(file_path)\n"
   ]
  },
  {
   "cell_type": "code",
   "execution_count": 3,
   "id": "9cbb869a",
   "metadata": {},
   "outputs": [],
   "source": [
    "# Diagnosfunktion för DataFrame för att identifiera problem som dubblerade index, kolumner och inbäddade DataFrames. Gjordes endast för försöka hitta problem vid prediktionsdata laddning.\n",
    "def diagnose_dataframe(df, name=\"DataFrame\", max_examples=3):\n",
    "    print(f\"\\n{'='*80}\")\n",
    "    print(f\"🔍 Diagnos för {name}\")\n",
    "    print(f\"{'='*80}\")\n",
    "    print(f\"Shape: {df.shape}\")\n",
    "    \n",
    "    # 1️⃣ Dubblerade index\n",
    "    duplicated_index_count = df.index.duplicated().sum()\n",
    "    if duplicated_index_count > 0:\n",
    "        print(f\"❌ Dubblerade index hittade: {duplicated_index_count}\")\n",
    "        print(f\"  Exempel på duplicerade index: {df.index[df.index.duplicated()][:max_examples].tolist()}\")\n",
    "    else:\n",
    "        print(\"✅ Inga dubblerade index.\")\n",
    "    \n",
    "    # 2️⃣ Dubblerade kolumner\n",
    "    duplicated_cols = df.columns[df.columns.duplicated()].tolist()\n",
    "    if duplicated_cols:\n",
    "        print(f\"❌ Dubblerade kolumner: {duplicated_cols}\")\n",
    "    else:\n",
    "        print(\"✅ Inga dubblerade kolumnnamn.\")\n",
    "    \n",
    "    # 3️⃣ Kolumner som är DataFrames (vanligt dubblettfel)\n",
    "    nested_df_cols = [c for c in df.columns if isinstance(df[c].iloc[0], (pd.DataFrame, pd.Series, list, dict))]\n",
    "    if nested_df_cols:\n",
    "        print(f\"⚠️ Kolumner med inbäddade strukturer: {nested_df_cols}\")\n",
    "        for c in nested_df_cols:\n",
    "            print(f\"  - '{c}' exempel: {df[c].iloc[0]}\")\n",
    "    else:\n",
    "        print(\"✅ Inga kolumner med inbäddade strukturer (DataFrame/list/dict).\")\n",
    "    \n",
    "    # 4️⃣ Snabb unicitetsöversikt\n",
    "    print(\"\\n📊 Snabb översikt av unika värden per kolumn:\")\n",
    "    uniq_counts = df.nunique(dropna=False).sort_values()\n",
    "    display(uniq_counts.head(10))\n",
    "    print(\"...\")\n",
    "    display(uniq_counts.tail(10))\n",
    "    \n",
    "    print(f\"{'='*80}\\n\")\n"
   ]
  },
  {
   "cell_type": "code",
   "execution_count": 4,
   "id": "4b172ef5",
   "metadata": {},
   "outputs": [
    {
     "name": "stdout",
     "output_type": "stream",
     "text": [
      "\n",
      "================================================================================\n",
      "🔍 Diagnos för Efter inläsning av träningsdata\n",
      "================================================================================\n",
      "Shape: (50948, 24)\n",
      "✅ Inga dubblerade index.\n",
      "✅ Inga dubblerade kolumnnamn.\n",
      "✅ Inga kolumner med inbäddade strukturer (DataFrame/list/dict).\n",
      "\n",
      "📊 Snabb översikt av unika värden per kolumn:\n"
     ]
    },
    {
     "data": {
      "application/vnd.microsoft.datawrangler.viewer.v0+json": {
       "columns": [
        {
         "name": "index",
         "rawType": "object",
         "type": "string"
        },
        {
         "name": "0",
         "rawType": "int64",
         "type": "integer"
        }
       ],
       "ref": "106fb22b-78bc-459f-97df-3bbee540eb55",
       "rows": [
        [
         "start_month",
         "1"
        ],
        [
         "Canceled",
         "2"
        ],
        [
         "is_weekday",
         "2"
        ],
        [
         "is_delayed",
         "2"
        ],
        [
         "trip_typeoftraffic",
         "3"
        ],
        [
         "Operator",
         "14"
        ],
        [
         "TripStartDate",
         "20"
        ],
        [
         "start_day_of_month",
         "20"
        ],
        [
         "TrainOwner",
         "22"
        ],
        [
         "end_station_county",
         "22"
        ]
       ],
       "shape": {
        "columns": 1,
        "rows": 10
       }
      },
      "text/plain": [
       "start_month            1\n",
       "Canceled               2\n",
       "is_weekday             2\n",
       "is_delayed             2\n",
       "trip_typeoftraffic     3\n",
       "Operator              14\n",
       "TripStartDate         20\n",
       "start_day_of_month    20\n",
       "TrainOwner            22\n",
       "end_station_county    22\n",
       "dtype: int64"
      ]
     },
     "metadata": {},
     "output_type": "display_data"
    },
    {
     "name": "stdout",
     "output_type": "stream",
     "text": [
      "...\n"
     ]
    },
    {
     "data": {
      "application/vnd.microsoft.datawrangler.viewer.v0+json": {
       "columns": [
        {
         "name": "index",
         "rawType": "object",
         "type": "string"
        },
        {
         "name": "0",
         "rawType": "int64",
         "type": "integer"
        }
       ],
       "ref": "c72939de-66ae-4cb7-bd1d-aa6a77c3d6bc",
       "rows": [
        [
         "LocationSignatureDeparture",
         "285"
        ],
        [
         "departure_station",
         "285"
        ],
        [
         "DurationActualMinutes",
         "593"
        ],
        [
         "DistanceKm",
         "695"
        ],
        [
         "DelayMinutes",
         "2783"
        ],
        [
         "AdvertisedTrainIdent",
         "4124"
        ],
        [
         "DepartureAdvertised",
         "18149"
        ],
        [
         "ArrivalAdvertised",
         "18554"
        ],
        [
         "DepartureActual",
         "49490"
        ],
        [
         "ArrivalActual",
         "49661"
        ]
       ],
       "shape": {
        "columns": 1,
        "rows": 10
       }
      },
      "text/plain": [
       "LocationSignatureDeparture      285\n",
       "departure_station               285\n",
       "DurationActualMinutes           593\n",
       "DistanceKm                      695\n",
       "DelayMinutes                   2783\n",
       "AdvertisedTrainIdent           4124\n",
       "DepartureAdvertised           18149\n",
       "ArrivalAdvertised             18554\n",
       "DepartureActual               49490\n",
       "ArrivalActual                 49661\n",
       "dtype: int64"
      ]
     },
     "metadata": {},
     "output_type": "display_data"
    },
    {
     "name": "stdout",
     "output_type": "stream",
     "text": [
      "================================================================================\n",
      "\n"
     ]
    }
   ],
   "source": [
    "diagnose_dataframe(df_processed, \"Efter inläsning av träningsdata\")"
   ]
  },
  {
   "cell_type": "markdown",
   "id": "f0427eed",
   "metadata": {},
   "source": [
    "### Första inspektion"
   ]
  },
  {
   "cell_type": "code",
   "execution_count": 5,
   "id": "8ae86214",
   "metadata": {},
   "outputs": [
    {
     "name": "stdout",
     "output_type": "stream",
     "text": [
      "Dataset shape: (50948, 24)\n",
      "\n",
      "First rows:\n"
     ]
    },
    {
     "data": {
      "application/vnd.microsoft.datawrangler.viewer.v0+json": {
       "columns": [
        {
         "name": "index",
         "rawType": "int64",
         "type": "integer"
        },
        {
         "name": "AdvertisedTrainIdent",
         "rawType": "object",
         "type": "string"
        },
        {
         "name": "TripStartDate",
         "rawType": "object",
         "type": "unknown"
        },
        {
         "name": "LocationSignatureDeparture",
         "rawType": "object",
         "type": "string"
        },
        {
         "name": "LocationSignatureArrival",
         "rawType": "object",
         "type": "string"
        },
        {
         "name": "DepartureAdvertised",
         "rawType": "datetime64[ns]",
         "type": "datetime"
        },
        {
         "name": "DepartureActual",
         "rawType": "datetime64[ns]",
         "type": "datetime"
        },
        {
         "name": "ArrivalAdvertised",
         "rawType": "datetime64[ns]",
         "type": "datetime"
        },
        {
         "name": "ArrivalActual",
         "rawType": "datetime64[ns]",
         "type": "datetime"
        },
        {
         "name": "DelayMinutes",
         "rawType": "float64",
         "type": "float"
        },
        {
         "name": "DurationActualMinutes",
         "rawType": "int64",
         "type": "integer"
        },
        {
         "name": "DistanceKm",
         "rawType": "float64",
         "type": "float"
        },
        {
         "name": "Canceled",
         "rawType": "bool",
         "type": "boolean"
        },
        {
         "name": "Operator",
         "rawType": "object",
         "type": "string"
        },
        {
         "name": "TrainOwner",
         "rawType": "object",
         "type": "string"
        },
        {
         "name": "trip_typeoftraffic",
         "rawType": "object",
         "type": "string"
        },
        {
         "name": "departure_station",
         "rawType": "object",
         "type": "string"
        },
        {
         "name": "arrival_station",
         "rawType": "object",
         "type": "string"
        },
        {
         "name": "end_station_county",
         "rawType": "object",
         "type": "string"
        },
        {
         "name": "Deviation_Description",
         "rawType": "object",
         "type": "unknown"
        },
        {
         "name": "start_hour",
         "rawType": "int64",
         "type": "integer"
        },
        {
         "name": "start_day_of_month",
         "rawType": "int64",
         "type": "integer"
        },
        {
         "name": "start_month",
         "rawType": "int64",
         "type": "integer"
        },
        {
         "name": "is_weekday",
         "rawType": "int64",
         "type": "integer"
        },
        {
         "name": "is_delayed",
         "rawType": "int64",
         "type": "integer"
        }
       ],
       "ref": "c8355b5f-36a9-4d50-bc22-c6ef725e7379",
       "rows": [
        [
         "0",
         "10994",
         "2025-10-09",
         "Cst",
         "U",
         "2025-10-09 22:11:00",
         "2025-10-09 22:11:24",
         "2025-10-09 22:51:00",
         "2025-10-09 22:49:17",
         "-1.7166666666666666",
         "38",
         "63.04355867158902",
         "False",
         "TDEV",
         "MÄLAB",
         "YNA001",
         "Stockholms central",
         "Uppsala central",
         "Uppsala län",
         null,
         "22",
         "9",
         "10",
         "1",
         "0"
        ],
        [
         "1",
         "1154",
         "2025-10-09",
         "Mc",
         "Hb",
         "2025-10-09 22:12:00",
         "2025-10-09 22:12:51",
         "2025-10-09 22:53:00",
         "2025-10-09 22:52:44",
         "-0.26666666666666666",
         "40",
         "51.864965996619695",
         "False",
         "TDEV",
         "Ö-TÅG",
         "YNA001",
         "Malmö central",
         "Helsingborgs central",
         "Skåne län",
         null,
         "22",
         "9",
         "10",
         "1",
         "0"
        ],
        [
         "2",
         "1156",
         "2025-10-09",
         "Hie",
         "Lu",
         "2025-10-09 22:18:00",
         "2025-10-09 22:18:43",
         "2025-10-09 22:40:00",
         "2025-10-09 22:39:13",
         "-0.7833333333333333",
         "20",
         "20.757461116967242",
         "False",
         "TDEV",
         "SKANE",
         "YNA001",
         "Hyllie",
         "Lund c",
         "Skåne län",
         null,
         "22",
         "9",
         "10",
         "1",
         "0"
        ],
        [
         "3",
         "1160",
         "2025-10-09",
         "Hie",
         "Lu",
         "2025-10-09 22:48:00",
         "2025-10-09 22:48:21",
         "2025-10-09 23:09:00",
         "2025-10-09 23:11:39",
         "2.65",
         "23",
         "20.757461116967242",
         "False",
         "TDEV",
         "SKANE",
         "YNA001",
         "Hyllie",
         "Lund c",
         "Skåne län",
         null,
         "22",
         "9",
         "10",
         "1",
         "0"
        ],
        [
         "4",
         "1162",
         "2025-10-09",
         "Hie",
         "Lu",
         "2025-10-09 23:03:00",
         "2025-10-09 23:03:22",
         "2025-10-09 23:22:00",
         "2025-10-09 23:22:53",
         "0.8833333333333333",
         "20",
         "20.757461116967242",
         "False",
         "TDEV",
         "SKANE",
         "YNA001",
         "Hyllie",
         "Lund c",
         "Skåne län",
         null,
         "23",
         "9",
         "10",
         "1",
         "0"
        ]
       ],
       "shape": {
        "columns": 24,
        "rows": 5
       }
      },
      "text/html": [
       "<div>\n",
       "<style scoped>\n",
       "    .dataframe tbody tr th:only-of-type {\n",
       "        vertical-align: middle;\n",
       "    }\n",
       "\n",
       "    .dataframe tbody tr th {\n",
       "        vertical-align: top;\n",
       "    }\n",
       "\n",
       "    .dataframe thead th {\n",
       "        text-align: right;\n",
       "    }\n",
       "</style>\n",
       "<table border=\"1\" class=\"dataframe\">\n",
       "  <thead>\n",
       "    <tr style=\"text-align: right;\">\n",
       "      <th></th>\n",
       "      <th>AdvertisedTrainIdent</th>\n",
       "      <th>TripStartDate</th>\n",
       "      <th>LocationSignatureDeparture</th>\n",
       "      <th>LocationSignatureArrival</th>\n",
       "      <th>DepartureAdvertised</th>\n",
       "      <th>DepartureActual</th>\n",
       "      <th>ArrivalAdvertised</th>\n",
       "      <th>ArrivalActual</th>\n",
       "      <th>DelayMinutes</th>\n",
       "      <th>DurationActualMinutes</th>\n",
       "      <th>...</th>\n",
       "      <th>trip_typeoftraffic</th>\n",
       "      <th>departure_station</th>\n",
       "      <th>arrival_station</th>\n",
       "      <th>end_station_county</th>\n",
       "      <th>Deviation_Description</th>\n",
       "      <th>start_hour</th>\n",
       "      <th>start_day_of_month</th>\n",
       "      <th>start_month</th>\n",
       "      <th>is_weekday</th>\n",
       "      <th>is_delayed</th>\n",
       "    </tr>\n",
       "  </thead>\n",
       "  <tbody>\n",
       "    <tr>\n",
       "      <th>0</th>\n",
       "      <td>10994</td>\n",
       "      <td>2025-10-09</td>\n",
       "      <td>Cst</td>\n",
       "      <td>U</td>\n",
       "      <td>2025-10-09 22:11:00</td>\n",
       "      <td>2025-10-09 22:11:24</td>\n",
       "      <td>2025-10-09 22:51:00</td>\n",
       "      <td>2025-10-09 22:49:17</td>\n",
       "      <td>-1.716667</td>\n",
       "      <td>38</td>\n",
       "      <td>...</td>\n",
       "      <td>YNA001</td>\n",
       "      <td>Stockholms central</td>\n",
       "      <td>Uppsala central</td>\n",
       "      <td>Uppsala län</td>\n",
       "      <td>None</td>\n",
       "      <td>22</td>\n",
       "      <td>9</td>\n",
       "      <td>10</td>\n",
       "      <td>1</td>\n",
       "      <td>0</td>\n",
       "    </tr>\n",
       "    <tr>\n",
       "      <th>1</th>\n",
       "      <td>1154</td>\n",
       "      <td>2025-10-09</td>\n",
       "      <td>Mc</td>\n",
       "      <td>Hb</td>\n",
       "      <td>2025-10-09 22:12:00</td>\n",
       "      <td>2025-10-09 22:12:51</td>\n",
       "      <td>2025-10-09 22:53:00</td>\n",
       "      <td>2025-10-09 22:52:44</td>\n",
       "      <td>-0.266667</td>\n",
       "      <td>40</td>\n",
       "      <td>...</td>\n",
       "      <td>YNA001</td>\n",
       "      <td>Malmö central</td>\n",
       "      <td>Helsingborgs central</td>\n",
       "      <td>Skåne län</td>\n",
       "      <td>None</td>\n",
       "      <td>22</td>\n",
       "      <td>9</td>\n",
       "      <td>10</td>\n",
       "      <td>1</td>\n",
       "      <td>0</td>\n",
       "    </tr>\n",
       "    <tr>\n",
       "      <th>2</th>\n",
       "      <td>1156</td>\n",
       "      <td>2025-10-09</td>\n",
       "      <td>Hie</td>\n",
       "      <td>Lu</td>\n",
       "      <td>2025-10-09 22:18:00</td>\n",
       "      <td>2025-10-09 22:18:43</td>\n",
       "      <td>2025-10-09 22:40:00</td>\n",
       "      <td>2025-10-09 22:39:13</td>\n",
       "      <td>-0.783333</td>\n",
       "      <td>20</td>\n",
       "      <td>...</td>\n",
       "      <td>YNA001</td>\n",
       "      <td>Hyllie</td>\n",
       "      <td>Lund c</td>\n",
       "      <td>Skåne län</td>\n",
       "      <td>None</td>\n",
       "      <td>22</td>\n",
       "      <td>9</td>\n",
       "      <td>10</td>\n",
       "      <td>1</td>\n",
       "      <td>0</td>\n",
       "    </tr>\n",
       "    <tr>\n",
       "      <th>3</th>\n",
       "      <td>1160</td>\n",
       "      <td>2025-10-09</td>\n",
       "      <td>Hie</td>\n",
       "      <td>Lu</td>\n",
       "      <td>2025-10-09 22:48:00</td>\n",
       "      <td>2025-10-09 22:48:21</td>\n",
       "      <td>2025-10-09 23:09:00</td>\n",
       "      <td>2025-10-09 23:11:39</td>\n",
       "      <td>2.650000</td>\n",
       "      <td>23</td>\n",
       "      <td>...</td>\n",
       "      <td>YNA001</td>\n",
       "      <td>Hyllie</td>\n",
       "      <td>Lund c</td>\n",
       "      <td>Skåne län</td>\n",
       "      <td>None</td>\n",
       "      <td>22</td>\n",
       "      <td>9</td>\n",
       "      <td>10</td>\n",
       "      <td>1</td>\n",
       "      <td>0</td>\n",
       "    </tr>\n",
       "    <tr>\n",
       "      <th>4</th>\n",
       "      <td>1162</td>\n",
       "      <td>2025-10-09</td>\n",
       "      <td>Hie</td>\n",
       "      <td>Lu</td>\n",
       "      <td>2025-10-09 23:03:00</td>\n",
       "      <td>2025-10-09 23:03:22</td>\n",
       "      <td>2025-10-09 23:22:00</td>\n",
       "      <td>2025-10-09 23:22:53</td>\n",
       "      <td>0.883333</td>\n",
       "      <td>20</td>\n",
       "      <td>...</td>\n",
       "      <td>YNA001</td>\n",
       "      <td>Hyllie</td>\n",
       "      <td>Lund c</td>\n",
       "      <td>Skåne län</td>\n",
       "      <td>None</td>\n",
       "      <td>23</td>\n",
       "      <td>9</td>\n",
       "      <td>10</td>\n",
       "      <td>1</td>\n",
       "      <td>0</td>\n",
       "    </tr>\n",
       "  </tbody>\n",
       "</table>\n",
       "<p>5 rows × 24 columns</p>\n",
       "</div>"
      ],
      "text/plain": [
       "  AdvertisedTrainIdent TripStartDate LocationSignatureDeparture  \\\n",
       "0                10994    2025-10-09                        Cst   \n",
       "1                 1154    2025-10-09                         Mc   \n",
       "2                 1156    2025-10-09                        Hie   \n",
       "3                 1160    2025-10-09                        Hie   \n",
       "4                 1162    2025-10-09                        Hie   \n",
       "\n",
       "  LocationSignatureArrival DepartureAdvertised     DepartureActual  \\\n",
       "0                        U 2025-10-09 22:11:00 2025-10-09 22:11:24   \n",
       "1                       Hb 2025-10-09 22:12:00 2025-10-09 22:12:51   \n",
       "2                       Lu 2025-10-09 22:18:00 2025-10-09 22:18:43   \n",
       "3                       Lu 2025-10-09 22:48:00 2025-10-09 22:48:21   \n",
       "4                       Lu 2025-10-09 23:03:00 2025-10-09 23:03:22   \n",
       "\n",
       "    ArrivalAdvertised       ArrivalActual  DelayMinutes  \\\n",
       "0 2025-10-09 22:51:00 2025-10-09 22:49:17     -1.716667   \n",
       "1 2025-10-09 22:53:00 2025-10-09 22:52:44     -0.266667   \n",
       "2 2025-10-09 22:40:00 2025-10-09 22:39:13     -0.783333   \n",
       "3 2025-10-09 23:09:00 2025-10-09 23:11:39      2.650000   \n",
       "4 2025-10-09 23:22:00 2025-10-09 23:22:53      0.883333   \n",
       "\n",
       "   DurationActualMinutes  ...  trip_typeoftraffic   departure_station  \\\n",
       "0                     38  ...              YNA001  Stockholms central   \n",
       "1                     40  ...              YNA001       Malmö central   \n",
       "2                     20  ...              YNA001              Hyllie   \n",
       "3                     23  ...              YNA001              Hyllie   \n",
       "4                     20  ...              YNA001              Hyllie   \n",
       "\n",
       "        arrival_station end_station_county Deviation_Description start_hour  \\\n",
       "0       Uppsala central        Uppsala län                  None         22   \n",
       "1  Helsingborgs central          Skåne län                  None         22   \n",
       "2                Lund c          Skåne län                  None         22   \n",
       "3                Lund c          Skåne län                  None         22   \n",
       "4                Lund c          Skåne län                  None         23   \n",
       "\n",
       "  start_day_of_month start_month is_weekday  is_delayed  \n",
       "0                  9          10          1           0  \n",
       "1                  9          10          1           0  \n",
       "2                  9          10          1           0  \n",
       "3                  9          10          1           0  \n",
       "4                  9          10          1           0  \n",
       "\n",
       "[5 rows x 24 columns]"
      ]
     },
     "metadata": {},
     "output_type": "display_data"
    },
    {
     "name": "stdout",
     "output_type": "stream",
     "text": [
      "\n",
      "Data types:\n",
      "AdvertisedTrainIdent                  object\n",
      "TripStartDate                         object\n",
      "LocationSignatureDeparture            object\n",
      "LocationSignatureArrival              object\n",
      "DepartureAdvertised           datetime64[ns]\n",
      "DepartureActual               datetime64[ns]\n",
      "ArrivalAdvertised             datetime64[ns]\n",
      "ArrivalActual                 datetime64[ns]\n",
      "DelayMinutes                         float64\n",
      "DurationActualMinutes                  int64\n",
      "DistanceKm                           float64\n",
      "Canceled                                bool\n",
      "Operator                              object\n",
      "TrainOwner                            object\n",
      "trip_typeoftraffic                    object\n",
      "departure_station                     object\n",
      "arrival_station                       object\n",
      "end_station_county                    object\n",
      "Deviation_Description                 object\n",
      "start_hour                             int64\n",
      "start_day_of_month                     int64\n",
      "start_month                            int64\n",
      "is_weekday                             int64\n",
      "is_delayed                             int64\n",
      "dtype: object\n",
      "\n",
      "Missing values:\n",
      "AdvertisedTrainIdent              0\n",
      "TripStartDate                     0\n",
      "LocationSignatureDeparture        0\n",
      "LocationSignatureArrival          0\n",
      "DepartureAdvertised               0\n",
      "DepartureActual                   0\n",
      "ArrivalAdvertised                 0\n",
      "ArrivalActual                     0\n",
      "DelayMinutes                      0\n",
      "DurationActualMinutes             0\n",
      "DistanceKm                        0\n",
      "Canceled                          0\n",
      "Operator                       1534\n",
      "TrainOwner                       45\n",
      "trip_typeoftraffic             1526\n",
      "departure_station                 0\n",
      "arrival_station                   0\n",
      "end_station_county                0\n",
      "Deviation_Description         42624\n",
      "start_hour                        0\n",
      "start_day_of_month                0\n",
      "start_month                       0\n",
      "is_weekday                        0\n",
      "is_delayed                        0\n",
      "dtype: int64\n",
      "\n",
      "Basic statistics:\n"
     ]
    },
    {
     "data": {
      "application/vnd.microsoft.datawrangler.viewer.v0+json": {
       "columns": [
        {
         "name": "index",
         "rawType": "object",
         "type": "string"
        },
        {
         "name": "DepartureAdvertised",
         "rawType": "object",
         "type": "unknown"
        },
        {
         "name": "DepartureActual",
         "rawType": "object",
         "type": "unknown"
        },
        {
         "name": "ArrivalAdvertised",
         "rawType": "object",
         "type": "unknown"
        },
        {
         "name": "ArrivalActual",
         "rawType": "object",
         "type": "unknown"
        },
        {
         "name": "DelayMinutes",
         "rawType": "float64",
         "type": "float"
        },
        {
         "name": "DurationActualMinutes",
         "rawType": "float64",
         "type": "float"
        },
        {
         "name": "DistanceKm",
         "rawType": "float64",
         "type": "float"
        },
        {
         "name": "start_hour",
         "rawType": "float64",
         "type": "float"
        },
        {
         "name": "start_day_of_month",
         "rawType": "float64",
         "type": "float"
        },
        {
         "name": "start_month",
         "rawType": "float64",
         "type": "float"
        },
        {
         "name": "is_weekday",
         "rawType": "float64",
         "type": "float"
        },
        {
         "name": "is_delayed",
         "rawType": "float64",
         "type": "float"
        }
       ],
       "ref": "4fc4a78a-edfa-4055-a60c-3e59e5b3e6e7",
       "rows": [
        [
         "count",
         "50948",
         "50948",
         "50948",
         "50948",
         "50948.0",
         "50948.0",
         "50948.0",
         "50948.0",
         "50948.0",
         "50948.0",
         "50948.0",
         "50948.0"
        ],
        [
         "mean",
         "2025-10-20 05:59:01.773573120",
         "2025-10-20 06:00:25.620909312",
         "2025-10-20 07:26:55.113841408",
         "2025-10-20 07:29:25.855120128",
         "2.5123546459134802",
         "89.00745858522416",
         "94.1592667792303",
         "11.129092407945356",
         "19.7658789353851",
         "10.0",
         "0.7974208997409123",
         "0.12520609248645678"
        ],
        [
         "min",
         "2025-10-09 22:00:00",
         "2025-10-09 22:00:11",
         "2025-10-09 22:25:00",
         "2025-10-09 22:25:11",
         "-158.81666666666666",
         "-88.0",
         "0.0",
         "0.0",
         "9.0",
         "10.0",
         "0.0",
         "0.0"
        ],
        [
         "25%",
         "2025-10-14 11:30:45",
         "2025-10-14 11:31:20.249999872",
         "2025-10-14 13:01:45",
         "2025-10-14 13:03:23",
         "-0.6166666666666667",
         "34.0",
         "36.471272309479076",
         "6.0",
         "14.0",
         "10.0",
         "1.0",
         "0.0"
        ],
        [
         "50%",
         "2025-10-21 10:41:00",
         "2025-10-21 10:41:16.500000",
         "2025-10-21 12:17:30",
         "2025-10-21 12:18:31.500000",
         "0.43333333333333335",
         "68.0",
         "62.27498905113443",
         "11.0",
         "21.0",
         "10.0",
         "1.0",
         "0.0"
        ],
        [
         "75%",
         "2025-10-25 12:13:00",
         "2025-10-25 12:13:23.750000128",
         "2025-10-25 13:44:15",
         "2025-10-25 13:45:49",
         "2.683333333333333",
         "106.0",
         "99.88352435765073",
         "15.0",
         "25.0",
         "10.0",
         "1.0",
         "0.0"
        ],
        [
         "max",
         "2025-10-29 22:53:00",
         "2025-10-29 22:55:15",
         "2025-10-29 22:59:00",
         "2025-10-29 23:33:20",
         "325.18333333333334",
         "1490.0",
         "527.6746720632665",
         "23.0",
         "29.0",
         "10.0",
         "1.0",
         "1.0"
        ],
        [
         "std",
         null,
         null,
         null,
         null,
         "8.628504005542514",
         "92.13421166892913",
         "93.5303543820748",
         "5.5196488325434565",
         "6.108112225290429",
         "0.0",
         "0.4019253402800262",
         "0.33095570211532044"
        ]
       ],
       "shape": {
        "columns": 12,
        "rows": 8
       }
      },
      "text/html": [
       "<div>\n",
       "<style scoped>\n",
       "    .dataframe tbody tr th:only-of-type {\n",
       "        vertical-align: middle;\n",
       "    }\n",
       "\n",
       "    .dataframe tbody tr th {\n",
       "        vertical-align: top;\n",
       "    }\n",
       "\n",
       "    .dataframe thead th {\n",
       "        text-align: right;\n",
       "    }\n",
       "</style>\n",
       "<table border=\"1\" class=\"dataframe\">\n",
       "  <thead>\n",
       "    <tr style=\"text-align: right;\">\n",
       "      <th></th>\n",
       "      <th>DepartureAdvertised</th>\n",
       "      <th>DepartureActual</th>\n",
       "      <th>ArrivalAdvertised</th>\n",
       "      <th>ArrivalActual</th>\n",
       "      <th>DelayMinutes</th>\n",
       "      <th>DurationActualMinutes</th>\n",
       "      <th>DistanceKm</th>\n",
       "      <th>start_hour</th>\n",
       "      <th>start_day_of_month</th>\n",
       "      <th>start_month</th>\n",
       "      <th>is_weekday</th>\n",
       "      <th>is_delayed</th>\n",
       "    </tr>\n",
       "  </thead>\n",
       "  <tbody>\n",
       "    <tr>\n",
       "      <th>count</th>\n",
       "      <td>50948</td>\n",
       "      <td>50948</td>\n",
       "      <td>50948</td>\n",
       "      <td>50948</td>\n",
       "      <td>50948.000000</td>\n",
       "      <td>50948.000000</td>\n",
       "      <td>50948.000000</td>\n",
       "      <td>50948.000000</td>\n",
       "      <td>50948.000000</td>\n",
       "      <td>50948.0</td>\n",
       "      <td>50948.000000</td>\n",
       "      <td>50948.000000</td>\n",
       "    </tr>\n",
       "    <tr>\n",
       "      <th>mean</th>\n",
       "      <td>2025-10-20 05:59:01.773573120</td>\n",
       "      <td>2025-10-20 06:00:25.620909312</td>\n",
       "      <td>2025-10-20 07:26:55.113841408</td>\n",
       "      <td>2025-10-20 07:29:25.855120128</td>\n",
       "      <td>2.512355</td>\n",
       "      <td>89.007459</td>\n",
       "      <td>94.159267</td>\n",
       "      <td>11.129092</td>\n",
       "      <td>19.765879</td>\n",
       "      <td>10.0</td>\n",
       "      <td>0.797421</td>\n",
       "      <td>0.125206</td>\n",
       "    </tr>\n",
       "    <tr>\n",
       "      <th>min</th>\n",
       "      <td>2025-10-09 22:00:00</td>\n",
       "      <td>2025-10-09 22:00:11</td>\n",
       "      <td>2025-10-09 22:25:00</td>\n",
       "      <td>2025-10-09 22:25:11</td>\n",
       "      <td>-158.816667</td>\n",
       "      <td>-88.000000</td>\n",
       "      <td>0.000000</td>\n",
       "      <td>0.000000</td>\n",
       "      <td>9.000000</td>\n",
       "      <td>10.0</td>\n",
       "      <td>0.000000</td>\n",
       "      <td>0.000000</td>\n",
       "    </tr>\n",
       "    <tr>\n",
       "      <th>25%</th>\n",
       "      <td>2025-10-14 11:30:45</td>\n",
       "      <td>2025-10-14 11:31:20.249999872</td>\n",
       "      <td>2025-10-14 13:01:45</td>\n",
       "      <td>2025-10-14 13:03:23</td>\n",
       "      <td>-0.616667</td>\n",
       "      <td>34.000000</td>\n",
       "      <td>36.471272</td>\n",
       "      <td>6.000000</td>\n",
       "      <td>14.000000</td>\n",
       "      <td>10.0</td>\n",
       "      <td>1.000000</td>\n",
       "      <td>0.000000</td>\n",
       "    </tr>\n",
       "    <tr>\n",
       "      <th>50%</th>\n",
       "      <td>2025-10-21 10:41:00</td>\n",
       "      <td>2025-10-21 10:41:16.500000</td>\n",
       "      <td>2025-10-21 12:17:30</td>\n",
       "      <td>2025-10-21 12:18:31.500000</td>\n",
       "      <td>0.433333</td>\n",
       "      <td>68.000000</td>\n",
       "      <td>62.274989</td>\n",
       "      <td>11.000000</td>\n",
       "      <td>21.000000</td>\n",
       "      <td>10.0</td>\n",
       "      <td>1.000000</td>\n",
       "      <td>0.000000</td>\n",
       "    </tr>\n",
       "    <tr>\n",
       "      <th>75%</th>\n",
       "      <td>2025-10-25 12:13:00</td>\n",
       "      <td>2025-10-25 12:13:23.750000128</td>\n",
       "      <td>2025-10-25 13:44:15</td>\n",
       "      <td>2025-10-25 13:45:49</td>\n",
       "      <td>2.683333</td>\n",
       "      <td>106.000000</td>\n",
       "      <td>99.883524</td>\n",
       "      <td>15.000000</td>\n",
       "      <td>25.000000</td>\n",
       "      <td>10.0</td>\n",
       "      <td>1.000000</td>\n",
       "      <td>0.000000</td>\n",
       "    </tr>\n",
       "    <tr>\n",
       "      <th>max</th>\n",
       "      <td>2025-10-29 22:53:00</td>\n",
       "      <td>2025-10-29 22:55:15</td>\n",
       "      <td>2025-10-29 22:59:00</td>\n",
       "      <td>2025-10-29 23:33:20</td>\n",
       "      <td>325.183333</td>\n",
       "      <td>1490.000000</td>\n",
       "      <td>527.674672</td>\n",
       "      <td>23.000000</td>\n",
       "      <td>29.000000</td>\n",
       "      <td>10.0</td>\n",
       "      <td>1.000000</td>\n",
       "      <td>1.000000</td>\n",
       "    </tr>\n",
       "    <tr>\n",
       "      <th>std</th>\n",
       "      <td>NaN</td>\n",
       "      <td>NaN</td>\n",
       "      <td>NaN</td>\n",
       "      <td>NaN</td>\n",
       "      <td>8.628504</td>\n",
       "      <td>92.134212</td>\n",
       "      <td>93.530354</td>\n",
       "      <td>5.519649</td>\n",
       "      <td>6.108112</td>\n",
       "      <td>0.0</td>\n",
       "      <td>0.401925</td>\n",
       "      <td>0.330956</td>\n",
       "    </tr>\n",
       "  </tbody>\n",
       "</table>\n",
       "</div>"
      ],
      "text/plain": [
       "                 DepartureAdvertised                DepartureActual  \\\n",
       "count                          50948                          50948   \n",
       "mean   2025-10-20 05:59:01.773573120  2025-10-20 06:00:25.620909312   \n",
       "min              2025-10-09 22:00:00            2025-10-09 22:00:11   \n",
       "25%              2025-10-14 11:30:45  2025-10-14 11:31:20.249999872   \n",
       "50%              2025-10-21 10:41:00     2025-10-21 10:41:16.500000   \n",
       "75%              2025-10-25 12:13:00  2025-10-25 12:13:23.750000128   \n",
       "max              2025-10-29 22:53:00            2025-10-29 22:55:15   \n",
       "std                              NaN                            NaN   \n",
       "\n",
       "                   ArrivalAdvertised                  ArrivalActual  \\\n",
       "count                          50948                          50948   \n",
       "mean   2025-10-20 07:26:55.113841408  2025-10-20 07:29:25.855120128   \n",
       "min              2025-10-09 22:25:00            2025-10-09 22:25:11   \n",
       "25%              2025-10-14 13:01:45            2025-10-14 13:03:23   \n",
       "50%              2025-10-21 12:17:30     2025-10-21 12:18:31.500000   \n",
       "75%              2025-10-25 13:44:15            2025-10-25 13:45:49   \n",
       "max              2025-10-29 22:59:00            2025-10-29 23:33:20   \n",
       "std                              NaN                            NaN   \n",
       "\n",
       "       DelayMinutes  DurationActualMinutes    DistanceKm    start_hour  \\\n",
       "count  50948.000000           50948.000000  50948.000000  50948.000000   \n",
       "mean       2.512355              89.007459     94.159267     11.129092   \n",
       "min     -158.816667             -88.000000      0.000000      0.000000   \n",
       "25%       -0.616667              34.000000     36.471272      6.000000   \n",
       "50%        0.433333              68.000000     62.274989     11.000000   \n",
       "75%        2.683333             106.000000     99.883524     15.000000   \n",
       "max      325.183333            1490.000000    527.674672     23.000000   \n",
       "std        8.628504              92.134212     93.530354      5.519649   \n",
       "\n",
       "       start_day_of_month  start_month    is_weekday    is_delayed  \n",
       "count        50948.000000      50948.0  50948.000000  50948.000000  \n",
       "mean            19.765879         10.0      0.797421      0.125206  \n",
       "min              9.000000         10.0      0.000000      0.000000  \n",
       "25%             14.000000         10.0      1.000000      0.000000  \n",
       "50%             21.000000         10.0      1.000000      0.000000  \n",
       "75%             25.000000         10.0      1.000000      0.000000  \n",
       "max             29.000000         10.0      1.000000      1.000000  \n",
       "std              6.108112          0.0      0.401925      0.330956  "
      ]
     },
     "metadata": {},
     "output_type": "display_data"
    }
   ],
   "source": [
    "print(\"Dataset shape:\", df_processed.shape)\n",
    "print(\"\\nFirst rows:\")\n",
    "display(df_processed.head())\n",
    "print(\"\\nData types:\")\n",
    "print(df_processed.dtypes)\n",
    "print(\"\\nMissing values:\")\n",
    "print(df_processed.isnull().sum())\n",
    "print(\"\\nBasic statistics:\")\n",
    "display(df_processed.describe())"
   ]
  },
  {
   "cell_type": "markdown",
   "id": "e89a89c1",
   "metadata": {},
   "source": [
    "### Exploratory Data Analysis (EDA)"
   ]
  },
  {
   "cell_type": "code",
   "execution_count": 6,
   "id": "2c4902b5",
   "metadata": {},
   "outputs": [
    {
     "data": {
      "image/png": "[encoded data removed]",
      "text/plain": [
       "<Figure size 1500x500 with 2 Axes>"
      ]
     },
     "metadata": {},
     "output_type": "display_data"
    },
    {
     "name": "stdout",
     "output_type": "stream",
     "text": [
      "Medel försening: 2.51 min\n",
      "Median försening: 0.43 min\n",
      "Max försening: 325.18 min\n"
     ]
    }
   ],
   "source": [
    "# Distribution av target variabel med Seaborn\n",
    "fig, axes = plt.subplots(1, 2, figsize=(15, 5))\n",
    "\n",
    "# --- Vänstra diagrammet: Seaborn Histplot (Histogram och KDE) ---\n",
    "sns.histplot(\n",
    "    data=df_processed, \n",
    "    x='DelayMinutes', \n",
    "    bins=50, \n",
    "    kde=False, # Lägger till en skattning av täthetsfunktionen (Density Estimate)\n",
    "    edgecolor='black',\n",
    "    ax=axes[0]\n",
    ")\n",
    "axes[0].set_title('Distribution av Förseningar')\n",
    "axes[0].set_xlabel('Försening (minuter)')\n",
    "axes[0].set_ylabel('Frekvens')\n",
    "\n",
    "# --- Högra diagrammet: Seaborn Boxplot (För outliers) ---\n",
    "# Vi använder Seaborn boxplot och sätter x=None och y='DelayMinutes' \n",
    "# för att rita en vertikal boxplot.\n",
    "sns.boxplot(\n",
    "    data=df_processed, \n",
    "    y='DelayMinutes', \n",
    "    ax=axes[1],\n",
    "    color='lightblue' # Lägger till en färg för tydlighet\n",
    ")\n",
    "axes[1].set_title('Boxplot av Förseningar')\n",
    "axes[1].set_ylabel('Försening (minuter)')\n",
    "axes[1].set_xlabel('') # Tar bort X-axeln genom att sätta en tom etikett\n",
    "\n",
    "plt.tight_layout()\n",
    "plt.show()\n",
    "\n",
    "# Utskrift av statistik (oförändrad)\n",
    "print(f\"Medel försening: {df_processed['DelayMinutes'].mean():.2f} min\")\n",
    "print(f\"Median försening: {df_processed['DelayMinutes'].median():.2f} min\")\n",
    "print(f\"Max försening: {df_processed['DelayMinutes'].max():.2f} min\")"
   ]
  },
  {
   "cell_type": "code",
   "execution_count": 7,
   "id": "f46461e3",
   "metadata": {},
   "outputs": [
    {
     "data": {
      "image/png": "[encoded data removed]",
      "text/plain": [
       "<Figure size 800x600 with 2 Axes>"
      ]
     },
     "metadata": {},
     "output_type": "display_data"
    }
   ],
   "source": [
    "# 1. Välj alla numeriska kolumner\n",
    "numeric_cols = df_processed.select_dtypes(include=[np.number]).columns\n",
    "\n",
    "# 2. Exkludera alla Label Encoded-kolumner (de slutar på '_encoded') och exkludera tidigare target (DelayMinutes) -gör nu binär predictiv modellering på is_delayed (som är 3 min försenad)\n",
    "excluded_suffixes = ('_encoded', 'DelayMinutes')\n",
    "\n",
    "filtered_numeric_cols = [\n",
    "    col for col in numeric_cols \n",
    "    if not col.endswith(excluded_suffixes) \n",
    "]\n",
    "    \n",
    "# 3. Beräkna korrelationsmatrisen\n",
    "correlation_matrix = df_processed[filtered_numeric_cols].corr()\n",
    "\n",
    "plt.figure(figsize=(8, 6))\n",
    "# Här kan det vara meningsfullt att titta på korrelationen mot target-variabeln\n",
    "sns.heatmap(\n",
    "    correlation_matrix, \n",
    "    annot=True, \n",
    "    cmap='coolwarm', \n",
    "    center=0, \n",
    "    fmt='.2f', \n",
    "    square=True, \n",
    "    linewidths=1\n",
    ")\n",
    "plt.title('Korrelationsmatris - Endast Meningsfulla Numeriska Variabler')\n",
    "plt.tight_layout()\n",
    "plt.show()"
   ]
  },
  {
   "cell_type": "code",
   "execution_count": 8,
   "id": "723e3333",
   "metadata": {},
   "outputs": [
    {
     "name": "stdout",
     "output_type": "stream",
     "text": [
      "\n",
      "Korrelation med is_delayed:\n",
      "is_delayed               1.000000\n",
      "DistanceKm               0.243899\n",
      "DurationActualMinutes    0.224011\n",
      "is_weekday               0.064668\n",
      "start_day_of_month       0.037639\n",
      "start_hour               0.007355\n",
      "start_month                   NaN\n",
      "Name: is_delayed, dtype: float64\n"
     ]
    }
   ],
   "source": [
    "# Feature importance \n",
    "print(\"\\nKorrelation med is_delayed:\")\n",
    "print(correlation_matrix['is_delayed'].sort_values(ascending=False))"
   ]
  },
  {
   "cell_type": "markdown",
   "id": "dd54fb3e",
   "metadata": {},
   "source": [
    "### Feature Engineering"
   ]
  },
  {
   "cell_type": "code",
   "execution_count": 9,
   "id": "16f5a0ab",
   "metadata": {},
   "outputs": [
    {
     "name": "stdout",
     "output_type": "stream",
     "text": [
      "Skapar Label Encoded-features...\n",
      "DEBUG TRÄNING 'LocationSignatureDeparture': Data inmatad med längd: 50948\n",
      "  - LocationSignatureDeparture_encoded skapad.\n",
      "DEBUG TRÄNING 'LocationSignatureArrival': Data inmatad med längd: 50948\n",
      "  - LocationSignatureArrival_encoded skapad.\n",
      "DEBUG TRÄNING 'Operator': Data inmatad med längd: 50948\n",
      "  - Operator_encoded skapad.\n",
      "DEBUG TRÄNING 'TrainOwner': Data inmatad med längd: 50948\n",
      "  - TrainOwner_encoded skapad.\n",
      "DEBUG TRÄNING 'trip_typeoftraffic': Data inmatad med längd: 50948\n",
      "  - trip_typeoftraffic_encoded skapad.\n",
      "DEBUG TRÄNING 'departure_station': Data inmatad med längd: 50948\n",
      "  - departure_station_encoded skapad.\n",
      "DEBUG TRÄNING 'arrival_station': Data inmatad med längd: 50948\n",
      "  - arrival_station_encoded skapad.\n"
     ]
    }
   ],
   "source": [
    "# Feature Engineering\n",
    "df_processed = df_processed.copy()\n",
    "\n",
    "# Skapa en ny kolumn för klassificering\n",
    "df_processed['is_delayed_6min'] = (df_processed['DelayMinutes'] >= 6).astype(int)\n",
    "\n",
    "# VIKTIGT: Konvertera datetime-kolumner till pandas datetime\n",
    "datetime_cols = ['start_planned', 'start_actual', 'end_planned', 'end_actual']\n",
    "for col in datetime_cols:\n",
    "    if col in df_processed.columns:\n",
    "        df_processed[col] = pd.to_datetime(df_processed[col])\n",
    "\n",
    "# Extrahera TIME-based features från datetime\n",
    "if 'start_planned' in df_processed.columns:\n",
    "    df_processed['start_minute'] = df_processed['start_planned'].dt.minute\n",
    "    df_processed['start_day_of_month'] = df_processed['start_planned'].dt.day\n",
    "\n",
    "# Planerad duration\n",
    "if 'end_planned' in df_processed.columns and 'start_planned' in df_processed.columns:\n",
    "    df_processed['planned_duration_min'] = (\n",
    "        df_processed['end_planned'] - df_processed['start_planned']\n",
    "    ).dt.total_seconds() / 60\n",
    "\n",
    "# Rush hour feature\n",
    "df_processed['is_rush_hour'] = df_processed['start_hour'].isin([7,8,9,16,17,18]).astype(int)\n",
    "\n",
    "# Hantera kategoriska variabler med Label Encoding\n",
    "label_encoders = {}\n",
    "# UPPDATERAD lista för att matcha nya kolumner\n",
    "categorical_cols = [\n",
    "    'LocationSignatureDeparture', \n",
    "    'LocationSignatureArrival', \n",
    "    'Operator', \n",
    "    'TrainOwner', \n",
    "    'trip_typeoftraffic', \n",
    "    'departure_station', \n",
    "    'arrival_station',\n",
    "    #'end_station_county'   # Verkar inte finnas med i prediktionsfilen\n",
    "]\n",
    "\n",
    "print(\"Skapar Label Encoded-features...\")\n",
    "for col in categorical_cols:\n",
    "    if col in df_processed.columns:\n",
    "        le = LabelEncoder()\n",
    "        \n",
    "        # <<< FIX & DEBUG: Tvinga 1D-array INNAN fit_transform(), för att förska hitta problem vid prediktion>>>\n",
    "        # Säkerställ att allt hanteras som strängar, fyll NaN med 'UNKNOWN', \n",
    "        # konvertera till NumPy-array, och tvinga 1D (ravel).\n",
    "        X_1d_train = df_processed[col].astype(str).fillna('UNKNOWN').to_numpy().ravel()\n",
    "        \n",
    "        # DEBUG: Kontrollera längden på datan som matas in\n",
    "        print(f\"DEBUG TRÄNING '{col}': Data inmatad med längd: {len(X_1d_train)}\")\n",
    "        \n",
    "        # 2. Fit och Transform\n",
    "        df_processed[col + '_encoded'] = le.fit_transform(X_1d_train)\n",
    "        \n",
    "        label_encoders[col] = le\n",
    "        print(f\"  - {col}_encoded skapad.\")\n",
    "    else:\n",
    "        print(f\"  - VARNING: {col} hittades inte i datan.\")\n",
    "\n",
    "# Kolla nya features (resten av koden i cellen)\n",
    "# ..."
   ]
  },
  {
   "cell_type": "code",
   "execution_count": 10,
   "id": "166b030b",
   "metadata": {},
   "outputs": [
    {
     "name": "stdout",
     "output_type": "stream",
     "text": [
      "\n",
      "================================================================================\n",
      "🔍 Diagnos för Efter feature engineering\n",
      "================================================================================\n",
      "Shape: (50948, 33)\n",
      "✅ Inga dubblerade index.\n",
      "✅ Inga dubblerade kolumnnamn.\n",
      "✅ Inga kolumner med inbäddade strukturer (DataFrame/list/dict).\n",
      "\n",
      "📊 Snabb översikt av unika värden per kolumn:\n"
     ]
    },
    {
     "data": {
      "application/vnd.microsoft.datawrangler.viewer.v0+json": {
       "columns": [
        {
         "name": "index",
         "rawType": "object",
         "type": "string"
        },
        {
         "name": "0",
         "rawType": "int64",
         "type": "integer"
        }
       ],
       "ref": "09f7047c-d336-413d-a054-8e618d517979",
       "rows": [
        [
         "start_month",
         "1"
        ],
        [
         "is_weekday",
         "2"
        ],
        [
         "is_rush_hour",
         "2"
        ],
        [
         "is_delayed_6min",
         "2"
        ],
        [
         "is_delayed",
         "2"
        ],
        [
         "Canceled",
         "2"
        ],
        [
         "trip_typeoftraffic_encoded",
         "3"
        ],
        [
         "trip_typeoftraffic",
         "3"
        ],
        [
         "Operator_encoded",
         "14"
        ],
        [
         "Operator",
         "14"
        ]
       ],
       "shape": {
        "columns": 1,
        "rows": 10
       }
      },
      "text/plain": [
       "start_month                    1\n",
       "is_weekday                     2\n",
       "is_rush_hour                   2\n",
       "is_delayed_6min                2\n",
       "is_delayed                     2\n",
       "Canceled                       2\n",
       "trip_typeoftraffic_encoded     3\n",
       "trip_typeoftraffic             3\n",
       "Operator_encoded              14\n",
       "Operator                      14\n",
       "dtype: int64"
      ]
     },
     "metadata": {},
     "output_type": "display_data"
    },
    {
     "name": "stdout",
     "output_type": "stream",
     "text": [
      "...\n"
     ]
    },
    {
     "data": {
      "application/vnd.microsoft.datawrangler.viewer.v0+json": {
       "columns": [
        {
         "name": "index",
         "rawType": "object",
         "type": "string"
        },
        {
         "name": "0",
         "rawType": "int64",
         "type": "integer"
        }
       ],
       "ref": "88fbfcc5-3dbc-4003-8a57-c306786117f3",
       "rows": [
        [
         "LocationSignatureDeparture",
         "285"
        ],
        [
         "departure_station_encoded",
         "285"
        ],
        [
         "DurationActualMinutes",
         "593"
        ],
        [
         "DistanceKm",
         "695"
        ],
        [
         "DelayMinutes",
         "2783"
        ],
        [
         "AdvertisedTrainIdent",
         "4124"
        ],
        [
         "DepartureAdvertised",
         "18149"
        ],
        [
         "ArrivalAdvertised",
         "18554"
        ],
        [
         "DepartureActual",
         "49490"
        ],
        [
         "ArrivalActual",
         "49661"
        ]
       ],
       "shape": {
        "columns": 1,
        "rows": 10
       }
      },
      "text/plain": [
       "LocationSignatureDeparture      285\n",
       "departure_station_encoded       285\n",
       "DurationActualMinutes           593\n",
       "DistanceKm                      695\n",
       "DelayMinutes                   2783\n",
       "AdvertisedTrainIdent           4124\n",
       "DepartureAdvertised           18149\n",
       "ArrivalAdvertised             18554\n",
       "DepartureActual               49490\n",
       "ArrivalActual                 49661\n",
       "dtype: int64"
      ]
     },
     "metadata": {},
     "output_type": "display_data"
    },
    {
     "name": "stdout",
     "output_type": "stream",
     "text": [
      "================================================================================\n",
      "\n"
     ]
    }
   ],
   "source": [
    "# Diagnostisera DataFrame efter feature engineering för att säkerställa att allt ser bra ut\n",
    "diagnose_dataframe(df_processed, \"Efter feature engineering\")"
   ]
  },
  {
   "cell_type": "code",
   "execution_count": 11,
   "id": "e05246db",
   "metadata": {},
   "outputs": [
    {
     "name": "stdout",
     "output_type": "stream",
     "text": [
      "Nya features skapade:\n",
      "Numeriska: ['start_day_of_month', 'is_rush_hour', 'is_delayed_6min']\n",
      "Encodade kategoriska: ['LocationSignatureDeparture_encoded', 'LocationSignatureArrival_encoded', 'Operator_encoded', 'TrainOwner_encoded', 'trip_typeoftraffic_encoded', 'departure_station_encoded', 'arrival_station_encoded']\n",
      "\n",
      "Antal features totalt: 33\n"
     ]
    }
   ],
   "source": [
    "# Kolla nya features\n",
    "print(\"Nya features skapade:\")\n",
    "new_features = ['start_minute', 'start_day_of_month', 'delay_at_start_min', \n",
    "                'delay_at_end_min', 'planned_duration_min', 'is_rush_hour', \n",
    "                'is_delayed_6min']\n",
    "existing_new = [f for f in new_features if f in df_processed.columns]\n",
    "print(\"Numeriska:\", existing_new)\n",
    "\n",
    "encoded_features = [col for col in df_processed.columns if col.endswith('_encoded')]\n",
    "print(\"Encodade kategoriska:\", encoded_features)\n",
    "print(\"\\nAntal features totalt:\", len(df_processed.columns))"
   ]
  },
  {
   "cell_type": "markdown",
   "id": "e667c829",
   "metadata": {},
   "source": [
    "### Data splitting and Scaling"
   ]
  },
  {
   "cell_type": "code",
   "execution_count": 12,
   "id": "f3e904dd",
   "metadata": {},
   "outputs": [
    {
     "name": "stdout",
     "output_type": "stream",
     "text": [
      "Features som används: 13\n",
      "\n",
      "Features:\n",
      " 1. DistanceKm\n",
      " 2. start_hour\n",
      " 3. start_day_of_month\n",
      " 4. start_month\n",
      " 5. is_weekday\n",
      " 6. is_rush_hour\n",
      " 7. LocationSignatureDeparture_encoded\n",
      " 8. LocationSignatureArrival_encoded\n",
      " 9. Operator_encoded\n",
      "10. TrainOwner_encoded\n",
      "11. trip_typeoftraffic_encoded\n",
      "12. departure_station_encoded\n",
      "13. arrival_station_encoded\n",
      "\n",
      "Datatyper i X:\n",
      "int32      8\n",
      "int64      4\n",
      "float64    1\n",
      "Name: count, dtype: int64\n",
      "\n",
      "NaN värden per kolumn:\n",
      "Inga NaN värden!\n"
     ]
    }
   ],
   "source": [
    "# Definiera features och target\n",
    "\n",
    "exclude_cols = [\n",
    "    # ------------------ TARGETS (MÅSTE exkluderas) ------------------\n",
    "    'DelayMinutes',         # Original-target (regression)\n",
    "    'is_delayed',           # Target-variabeln för binär klassificering, is_delayed innebär 3 min försenade tåg\n",
    "    'is_delayed_6min',      # Ny target-variabel för binär klassificering, is_delayed_6min innebär 6 min försenade tåg\n",
    "    \n",
    "    # ------------------ DATALÄCKAGE (Dessa vet du inte i förväg) ------------------\n",
    "    'DepartureActual',        # FAKTISK avgångstid. Läckage.\n",
    "    'ArrivalActual',          # FAKTISK ankomsttid. Läckage.\n",
    "    'DurationActualMinutes',  # FAKTISK varaktighet. Läckage.\n",
    "    \n",
    "    # ------------------ RÅDATA (Används för feature engineering, inte som feature) ------------------\n",
    "    'TripStartDate',          # Rådatum (du använder start_hour, start_month etc)\n",
    "    'DepartureAdvertised',    # Rå-datetime\n",
    "    'ArrivalAdvertised',      # Rå-datetime\n",
    "    'Canceled',               # Canceled indikerar om resan blev inställd, vilket är läckage.\n",
    "    \n",
    "    # ------------------ RÅA KATEGORIER (Använd _encoded versionerna istället) ------------------\n",
    "    'LocationSignatureDeparture',\n",
    "    'LocationSignatureArrival',\n",
    "    'Operator',\n",
    "    'TrainOwner',\n",
    "    'trip_typeoftraffic',\n",
    "    'departure_station',\n",
    "    'arrival_station',\n",
    "    'end_station_county',\n",
    "    \n",
    "    # ------------------ IDENTIFIERARE & TEXT (Hög kardinalitet (stort antal unika värden) / Ej numeriskt) ------------------\n",
    "    'AdvertisedTrainIdent',\n",
    "    'Deviation_Description',\n",
    "    \n",
    "    # ------------------ GAMLA KOLUMNER (Från förra kod, skadar inte att ha kvar i listan) ------------------\n",
    "    'start_planned', 'start_actual', 'end_planned', 'end_actual', 'TripDate',\n",
    "    'IsDelayed', 'delay_at_end_min', 'duration_min', 'avg_speed_kmh', \n",
    "    'delay_at_start_min', 'start_station', 'end_station', 'start_owner', \n",
    "    'train_owner', 'start_operator', 'end_owner', 'start_canceled', \n",
    "    'end_canceled', 'trip_canceled'\n",
    "]\n",
    "\n",
    "\n",
    "# Filtrerar bort alla exkluderade kolumner OCH ser till att vi bara behåller numeriska/booleska kolumner\n",
    "feature_cols = [\n",
    "    col for col in df_processed.columns \n",
    "    if col not in exclude_cols \n",
    "    and df_processed[col].dtype in ['int32', 'int64', 'float64', 'bool']\n",
    "]\n",
    "\n",
    "print(f\"Features som används: {len(feature_cols)}\")\n",
    "print(\"\\nFeatures:\")\n",
    "for i, col in enumerate(feature_cols, 1):\n",
    "    print(f\"{i:2}. {col}\")\n",
    "\n",
    "X = df_processed[feature_cols]\n",
    "#y = df_processed['is_delayed'] # Sätter binära target 3 min\n",
    "y = df_processed['is_delayed_6min'] # Sätter binära target 6 min\n",
    "\n",
    "\n",
    "# Kontrollera datatyper\n",
    "print(f\"\\nDatatyper i X:\")\n",
    "print(X.dtypes.value_counts())\n",
    "\n",
    "# Kontrollera för NaN/Inf värden\n",
    "print(f\"\\nNaN värden per kolumn:\")\n",
    "nan_counts = X.isnull().sum()\n",
    "if nan_counts.sum() > 0:\n",
    "    print(nan_counts[nan_counts > 0])\n",
    "else:\n",
    "    print(\"Inga NaN värden!\")"
   ]
  },
  {
   "cell_type": "code",
   "execution_count": 13,
   "id": "98a7d3be",
   "metadata": {},
   "outputs": [
    {
     "name": "stdout",
     "output_type": "stream",
     "text": [
      "\n",
      "Training set: (40758, 13)\n",
      "Test set: (10190, 13)\n",
      "Target range: 0.0 - 1.0 min\n",
      "Target mean: 0.1 min\n"
     ]
    }
   ],
   "source": [
    "# Split data\n",
    "X_train, X_test, y_train, y_test = train_test_split(\n",
    "    X, y, test_size=0.2, random_state=42\n",
    ")\n",
    "\n",
    "print(f\"\\nTraining set: {X_train.shape}\")\n",
    "print(f\"Test set: {X_test.shape}\")\n",
    "print(f\"Target range: {y.min():.1f} - {y.max():.1f} min\")\n",
    "print(f\"Target mean: {y.mean():.1f} min\")"
   ]
  },
  {
   "cell_type": "code",
   "execution_count": 14,
   "id": "ae4f94bc",
   "metadata": {},
   "outputs": [
    {
     "data": {
      "application/vnd.microsoft.datawrangler.viewer.v0+json": {
       "columns": [
        {
         "name": "index",
         "rawType": "object",
         "type": "string"
        },
        {
         "name": "0",
         "rawType": "object",
         "type": "unknown"
        }
       ],
       "ref": "a8640884-78ca-499b-ac24-2926b6d9f6c0",
       "rows": [
        [
         "AdvertisedTrainIdent",
         "object"
        ],
        [
         "TripStartDate",
         "object"
        ],
        [
         "LocationSignatureDeparture",
         "object"
        ],
        [
         "LocationSignatureArrival",
         "object"
        ],
        [
         "DepartureAdvertised",
         "datetime64[ns]"
        ],
        [
         "DepartureActual",
         "datetime64[ns]"
        ],
        [
         "ArrivalAdvertised",
         "datetime64[ns]"
        ],
        [
         "ArrivalActual",
         "datetime64[ns]"
        ],
        [
         "DelayMinutes",
         "float64"
        ],
        [
         "DurationActualMinutes",
         "int64"
        ],
        [
         "DistanceKm",
         "float64"
        ],
        [
         "Canceled",
         "bool"
        ],
        [
         "Operator",
         "object"
        ],
        [
         "TrainOwner",
         "object"
        ],
        [
         "trip_typeoftraffic",
         "object"
        ],
        [
         "departure_station",
         "object"
        ],
        [
         "arrival_station",
         "object"
        ],
        [
         "end_station_county",
         "object"
        ],
        [
         "Deviation_Description",
         "object"
        ],
        [
         "start_hour",
         "int64"
        ],
        [
         "start_day_of_month",
         "int64"
        ],
        [
         "start_month",
         "int64"
        ],
        [
         "is_weekday",
         "int64"
        ],
        [
         "is_delayed",
         "int64"
        ],
        [
         "is_delayed_6min",
         "int32"
        ],
        [
         "is_rush_hour",
         "int32"
        ],
        [
         "LocationSignatureDeparture_encoded",
         "int32"
        ],
        [
         "LocationSignatureArrival_encoded",
         "int32"
        ],
        [
         "Operator_encoded",
         "int32"
        ],
        [
         "TrainOwner_encoded",
         "int32"
        ],
        [
         "trip_typeoftraffic_encoded",
         "int32"
        ],
        [
         "departure_station_encoded",
         "int32"
        ],
        [
         "arrival_station_encoded",
         "int32"
        ]
       ],
       "shape": {
        "columns": 1,
        "rows": 33
       }
      },
      "text/plain": [
       "AdvertisedTrainIdent                          object\n",
       "TripStartDate                                 object\n",
       "LocationSignatureDeparture                    object\n",
       "LocationSignatureArrival                      object\n",
       "DepartureAdvertised                   datetime64[ns]\n",
       "DepartureActual                       datetime64[ns]\n",
       "ArrivalAdvertised                     datetime64[ns]\n",
       "ArrivalActual                         datetime64[ns]\n",
       "DelayMinutes                                 float64\n",
       "DurationActualMinutes                          int64\n",
       "DistanceKm                                   float64\n",
       "Canceled                                        bool\n",
       "Operator                                      object\n",
       "TrainOwner                                    object\n",
       "trip_typeoftraffic                            object\n",
       "departure_station                             object\n",
       "arrival_station                               object\n",
       "end_station_county                            object\n",
       "Deviation_Description                         object\n",
       "start_hour                                     int64\n",
       "start_day_of_month                             int64\n",
       "start_month                                    int64\n",
       "is_weekday                                     int64\n",
       "is_delayed                                     int64\n",
       "is_delayed_6min                                int32\n",
       "is_rush_hour                                   int32\n",
       "LocationSignatureDeparture_encoded             int32\n",
       "LocationSignatureArrival_encoded               int32\n",
       "Operator_encoded                               int32\n",
       "TrainOwner_encoded                             int32\n",
       "trip_typeoftraffic_encoded                     int32\n",
       "departure_station_encoded                      int32\n",
       "arrival_station_encoded                        int32\n",
       "dtype: object"
      ]
     },
     "execution_count": 14,
     "metadata": {},
     "output_type": "execute_result"
    }
   ],
   "source": [
    "df_processed.dtypes"
   ]
  },
  {
   "cell_type": "code",
   "execution_count": 15,
   "id": "4343f2be",
   "metadata": {},
   "outputs": [
    {
     "name": "stdout",
     "output_type": "stream",
     "text": [
      "Scaling completed successfully!\n"
     ]
    }
   ],
   "source": [
    "# Scaling\n",
    "scaler = StandardScaler()\n",
    "X_train_scaled = scaler.fit_transform(X_train)\n",
    "X_test_scaled = scaler.transform(X_test)\n",
    "print(f\"Scaling completed successfully!\")"
   ]
  },
  {
   "cell_type": "markdown",
   "id": "79219381",
   "metadata": {},
   "source": [
    "### Model Training and Comparison"
   ]
  },
  {
   "cell_type": "code",
   "execution_count": 16,
   "id": "a0b2404c",
   "metadata": {},
   "outputs": [
    {
     "name": "stdout",
     "output_type": "stream",
     "text": [
      "\n",
      "Tränar Logistic Regression...\n",
      "\n",
      "Tränar Random Forest...\n",
      "\n",
      "Tränar Gradient Boosting...\n",
      "\n",
      "Tränar XGBoost...\n"
     ]
    }
   ],
   "source": [
    "# Träna flera modeller som ett första test att se vilken modell som presterar bäst\n",
    "models = {\n",
    "    'Logistic Regression': LogisticRegression(random_state=42, solver='liblinear'),\n",
    "    'Random Forest': RandomForestClassifier(n_estimators=100, random_state=42, n_jobs=-1, class_weight='balanced'),\n",
    "    'Gradient Boosting': GradientBoostingClassifier(n_estimators=100, random_state=42),\n",
    "    'XGBoost': XGBClassifier(n_estimators=100, random_state=42, scale_pos_weight=4.5, use_label_encoder=False, eval_metric='logloss', n_jobs=-1)\n",
    "}\n",
    "\n",
    "results = {}\n",
    "\n",
    "for name, model in models.items():\n",
    "    # Träna modell\n",
    "    print(f\"\\nTränar {name}...\")\n",
    "    model.fit(X_train_scaled, y_train)\n",
    "    \n",
    "    # Predicera\n",
    "    y_pred_train = model.predict(X_train_scaled)\n",
    "    y_pred_test = model.predict(X_test_scaled)\n",
    "    \n",
    "    # Vissa modeller (som LogisticRegression) har inte predict_proba, men de flesta i listan har det. predict_proba används för ROC AUC beräkning.\n",
    "    if hasattr(model, 'predict_proba'):\n",
    "        y_proba_test = model.predict_proba(X_test_scaled)[:, 1]\n",
    "    else:\n",
    "        y_proba_test = None\n",
    "\n",
    "    # Evaluera med KLASSIFICERINGSMÅTT\n",
    "    results[name] = {\n",
    "        'Train Accuracy': accuracy_score(y_train, y_pred_train),\n",
    "        'Test Accuracy': accuracy_score(y_test, y_pred_test),\n",
    "        \n",
    "        # Mått som är viktiga vid obalanserad data\n",
    "        'Test Precision': precision_score(y_test, y_pred_test, zero_division=0),\n",
    "        'Test Recall': recall_score(y_test, y_pred_test, zero_division=0),\n",
    "        'Test F1-Score': f1_score(y_test, y_pred_test, zero_division=0),\n",
    "        \n",
    "        # Area Under the ROC Curve (mått på modellens förmåga att skilja klasserna åt)\n",
    "        'Test ROC AUC': roc_auc_score(y_test, y_proba_test) if y_proba_test is not None else np.nan\n",
    "    }"
   ]
  },
  {
   "cell_type": "code",
   "execution_count": 17,
   "id": "39a589e9",
   "metadata": {},
   "outputs": [
    {
     "name": "stdout",
     "output_type": "stream",
     "text": [
      "\n",
      "Model Classification Performance Comparison:\n"
     ]
    },
    {
     "data": {
      "application/vnd.microsoft.datawrangler.viewer.v0+json": {
       "columns": [
        {
         "name": "index",
         "rawType": "object",
         "type": "string"
        },
        {
         "name": "Train Accuracy",
         "rawType": "float64",
         "type": "float"
        },
        {
         "name": "Test Accuracy",
         "rawType": "float64",
         "type": "float"
        },
        {
         "name": "Test Precision",
         "rawType": "float64",
         "type": "float"
        },
        {
         "name": "Test Recall",
         "rawType": "float64",
         "type": "float"
        },
        {
         "name": "Test F1-Score",
         "rawType": "float64",
         "type": "float"
        },
        {
         "name": "Test ROC AUC",
         "rawType": "float64",
         "type": "float"
        }
       ],
       "ref": "fcbcb5b4-4e6e-4536-906d-7b52fd492b08",
       "rows": [
        [
         "Logistic Regression",
         "0.877177486628392",
         "0.8715407262021589",
         "0.5571428571428572",
         "0.05886792452830188",
         "0.10648464163822526",
         "0.6997045408592195"
        ],
        [
         "Random Forest",
         "0.9770106482163011",
         "0.8524043179587831",
         "0.40569020021074814",
         "0.29056603773584905",
         "0.3386103781882146",
         "0.75558181953623"
        ],
        [
         "Gradient Boosting",
         "0.8803915795672015",
         "0.8730127576054956",
         "0.6260162601626016",
         "0.05811320754716981",
         "0.106353591160221",
         "0.7575172663325138"
        ],
        [
         "XGBoost",
         "0.8618185386917906",
         "0.816584887144259",
         "0.36122448979591837",
         "0.5343396226415095",
         "0.43105022831050227",
         "0.7866507465227894"
        ]
       ],
       "shape": {
        "columns": 6,
        "rows": 4
       }
      },
      "text/html": [
       "<div>\n",
       "<style scoped>\n",
       "    .dataframe tbody tr th:only-of-type {\n",
       "        vertical-align: middle;\n",
       "    }\n",
       "\n",
       "    .dataframe tbody tr th {\n",
       "        vertical-align: top;\n",
       "    }\n",
       "\n",
       "    .dataframe thead th {\n",
       "        text-align: right;\n",
       "    }\n",
       "</style>\n",
       "<table border=\"1\" class=\"dataframe\">\n",
       "  <thead>\n",
       "    <tr style=\"text-align: right;\">\n",
       "      <th></th>\n",
       "      <th>Train Accuracy</th>\n",
       "      <th>Test Accuracy</th>\n",
       "      <th>Test Precision</th>\n",
       "      <th>Test Recall</th>\n",
       "      <th>Test F1-Score</th>\n",
       "      <th>Test ROC AUC</th>\n",
       "    </tr>\n",
       "  </thead>\n",
       "  <tbody>\n",
       "    <tr>\n",
       "      <th>Logistic Regression</th>\n",
       "      <td>0.88</td>\n",
       "      <td>0.87</td>\n",
       "      <td>0.56</td>\n",
       "      <td>0.06</td>\n",
       "      <td>0.11</td>\n",
       "      <td>0.70</td>\n",
       "    </tr>\n",
       "    <tr>\n",
       "      <th>Random Forest</th>\n",
       "      <td>0.98</td>\n",
       "      <td>0.85</td>\n",
       "      <td>0.41</td>\n",
       "      <td>0.29</td>\n",
       "      <td>0.34</td>\n",
       "      <td>0.76</td>\n",
       "    </tr>\n",
       "    <tr>\n",
       "      <th>Gradient Boosting</th>\n",
       "      <td>0.88</td>\n",
       "      <td>0.87</td>\n",
       "      <td>0.63</td>\n",
       "      <td>0.06</td>\n",
       "      <td>0.11</td>\n",
       "      <td>0.76</td>\n",
       "    </tr>\n",
       "    <tr>\n",
       "      <th>XGBoost</th>\n",
       "      <td>0.86</td>\n",
       "      <td>0.82</td>\n",
       "      <td>0.36</td>\n",
       "      <td>0.53</td>\n",
       "      <td>0.43</td>\n",
       "      <td>0.79</td>\n",
       "    </tr>\n",
       "  </tbody>\n",
       "</table>\n",
       "</div>"
      ],
      "text/plain": [
       "                     Train Accuracy  Test Accuracy  Test Precision  \\\n",
       "Logistic Regression            0.88           0.87            0.56   \n",
       "Random Forest                  0.98           0.85            0.41   \n",
       "Gradient Boosting              0.88           0.87            0.63   \n",
       "XGBoost                        0.86           0.82            0.36   \n",
       "\n",
       "                     Test Recall  Test F1-Score  Test ROC AUC  \n",
       "Logistic Regression         0.06           0.11          0.70  \n",
       "Random Forest               0.29           0.34          0.76  \n",
       "Gradient Boosting           0.06           0.11          0.76  \n",
       "XGBoost                     0.53           0.43          0.79  "
      ]
     },
     "metadata": {},
     "output_type": "display_data"
    },
    {
     "data": {
      "image/png": "[encoded data removed]",
      "text/plain": [
       "<Figure size 1800x600 with 3 Axes>"
      ]
     },
     "metadata": {},
     "output_type": "display_data"
    }
   ],
   "source": [
    "# Visa resultat\n",
    "# Ställer in att alla flyttal (floats) ska visas med 2 decimaler\n",
    "# formatet '{:.2f}' betyder 2 decimaler fastställda ('f' för float)\n",
    "pd.options.display.float_format = '{:.2f}'.format\n",
    "\n",
    "results_df = pd.DataFrame(results).T\n",
    "print(\"\\nModel Classification Performance Comparison:\")\n",
    "display(results_df)\n",
    "\n",
    "# Visualisera\n",
    "fig, axes = plt.subplots(1, 3, figsize=(18, 6)) # Ändrat till 1 rad, 3 kolumner för att visa fler mått\n",
    "\n",
    "# --- Diagram 1: Accuracy (Noggrannhet) ---\n",
    "# Jämför Träning (Train) och Test Accuracy för att upptäcka överanpassning\n",
    "results_df[['Train Accuracy', 'Test Accuracy']].plot(kind='bar', ax=axes[0])\n",
    "axes[0].set_title('Noggrannhet (Accuracy = Antal Korrekta Prediktioner/Totala Antalet Prediktioner): Träning vs. Test')\n",
    "axes[0].set_ylabel('Accuracy Score')\n",
    "axes[0].tick_params(axis='x', rotation=45)\n",
    "axes[0].legend(loc='lower right')\n",
    "axes[0].set_ylim(0.0, 1.0) # Sätt rimliga gränser\n",
    "\n",
    "# --- Diagram 2: Viktiga Prediktionsmått (Precision, Recall, F1) ---\n",
    "# Visar de viktigaste testmåtten för balans och tillförlitlighet\n",
    "results_df[['Test Precision', 'Test Recall', 'Test F1-Score']].plot(kind='bar', ax=axes[1], cmap='viridis')\n",
    "axes[1].set_title('Testmått: Precision, Recall & F1-Score')\n",
    "axes[1].set_ylabel('Score')\n",
    "axes[1].tick_params(axis='x', rotation=45)\n",
    "axes[1].legend(loc='lower right')\n",
    "axes[1].set_ylim(0.0, 1.0) # Sätt rimliga gränser\n",
    "\n",
    "# --- Diagram 3: ROC AUC (Modellens åtskiljande förmåga) ---\n",
    "# ROC AUC är ett utmärkt sammanfattande mått för binär klassificering\n",
    "results_df['Test ROC AUC'].plot(kind='bar', ax=axes[2], color='darkorange')\n",
    "axes[2].set_title('Test ROC AUC Score')\n",
    "axes[2].set_ylabel('ROC AUC Score')\n",
    "axes[2].tick_params(axis='x', rotation=45)\n",
    "axes[2].set_ylim(0.0, 1.0) # Sätt rimliga gränser\n",
    "\n",
    "plt.tight_layout()\n",
    "plt.show()"
   ]
  },
  {
   "cell_type": "markdown",
   "id": "43279bcf",
   "metadata": {},
   "source": [
    "### Analys av Modellers Prestanda\n",
    "\n",
    "Resultaten ovan jämför de fyra klassificeringsmodellernas förmåga att förutsäga en tågförsening (klass 1) eller att tåget går i tid (klass 0).\n",
    "\n",
    "#### ROC AUC Score\n",
    "\n",
    "**ROC AUC** står för **Receiver Operating Characteristic - Area Under the Curve**.\n",
    "\n",
    "* **Mått på separation:** ROC AUC är det viktigaste måttet för att utvärdera hur bra en klassificeringsmodell är på att skilja mellan de två klasserna (i detta fall: \"I tid\" och \"Försenad\").\n",
    "* **Skala:** Värdet sträcker sig från 0.0 till 1.0.\n",
    "    * **0.5:** Representerar en modell som gissar slumpmässigt (inte bättre än att singla slant).\n",
    "    * **1.0:** Representerar en perfekt modell som kan skilja de två klasserna utan några fel.\n",
    "* **Tolkning:** En modell med ROC AUC på cirka **0.78 (XGBoost)** visar på en stark förmåga att på ett tillförlitligt sätt ranka tåg efter risk för försening."
   ]
  },
  {
   "cell_type": "markdown",
   "id": "5b147fc7",
   "metadata": {},
   "source": [
    "### Hyperparameter Tuning"
   ]
  },
  {
   "cell_type": "code",
   "execution_count": 18,
   "id": "89da3f0a",
   "metadata": {},
   "outputs": [
    {
     "name": "stdout",
     "output_type": "stream",
     "text": [
      "\n",
      "Startar Grid Search för XGBoost Classifier...\n",
      "Fitting 5 folds for each of 108 candidates, totalling 540 fits\n",
      "\n",
      "==================================================\n",
      "Bästa parametrar (XGBoost): {'colsample_bytree': 0.7, 'learning_rate': 0.05, 'max_depth': 9, 'n_estimators': 150, 'scale_pos_weight': 4.5}\n",
      "Bästa CV F1-Score: 0.4245\n",
      "==================================================\n"
     ]
    }
   ],
   "source": [
    "# Hyperparameter tuning för bästa modellen XGBoost\n",
    "\n",
    "param_grid_xgb = {\n",
    "    'n_estimators': [150, 200, 225],        # Antal träd i modellen, 150\n",
    "    'max_depth': [7, 9, 10],                # Antalet nivåer i varje träd, 10\n",
    "    'learning_rate': [0.05, 0.1],           # Justera inlärningstakten. Lägre = bättre precision, men långsammare. 0.05\n",
    "    'colsample_bytree': [0.6, 0.7],         # Styr hur aggressivt trädet får lära sig (standard = 1). Ett lägre värde kan hjälpa. 0.6\n",
    "    'scale_pos_weight': [3.5, 4, 4.5]       # Vikt för att hantera obalanserad data 4\n",
    "}\n",
    "\n",
    "# 1. Initiera XGBoost-klassificeraren\n",
    "xgb = XGBClassifier(\n",
    "    random_state=42, \n",
    "    n_jobs=-1,\n",
    "    # Använd din beprövade vikt för att hantera obalanserad data\n",
    "    # scale_pos_weight=4.5, # Används i grid search instället\n",
    "    # Måste inkluderas för moderna versioner av XGBoost i scikit-learn\n",
    "    use_label_encoder=False, \n",
    "    eval_metric='logloss' \n",
    ")\n",
    "\n",
    "# 2. Initiera GridSearchCV\n",
    "grid_search = GridSearchCV(\n",
    "    estimator=xgb, \n",
    "    param_grid=param_grid_xgb, \n",
    "    cv=5, \n",
    "    # Ändrat scoring till 'f1' för att optimera balansen mellan Precision och Recall\n",
    "    scoring='f1', # Viktigt för obalanserad data\n",
    "    n_jobs=-1, \n",
    "    verbose=3 # Ökade verbose för att se mer detaljerad utskrift under körning\n",
    ")\n",
    "\n",
    "# 3. Träna modellen\n",
    "# OBS: X_train_scaled och y_train är redan definierade från tidigare celler\n",
    "print(\"\\nStartar Grid Search för XGBoost Classifier...\")\n",
    "grid_search.fit(X_train_scaled, y_train)\n",
    "\n",
    "print(\"\\n\" + \"=\"*50)\n",
    "print(\"Bästa parametrar (XGBoost):\", grid_search.best_params_)\n",
    "# Vi utvärderar nu med F1-Score\n",
    "print(f\"Bästa CV F1-Score: {grid_search.best_score_:.4f}\") \n",
    "print(\"=\"*50)\n"
   ]
  },
  {
   "cell_type": "code",
   "execution_count": 19,
   "id": "5280191c",
   "metadata": {},
   "outputs": [
    {
     "name": "stdout",
     "output_type": "stream",
     "text": [
      "\n",
      "Final modell tränad och prediktioner genererade!\n"
     ]
    }
   ],
   "source": [
    "# Träna final modell (Hämta den bästa estimatormodellen från Grid Search)\n",
    "best_model = grid_search.best_estimator_\n",
    "\n",
    "# Predicera KLASSER (0 eller 1)\n",
    "y_pred_final = best_model.predict(X_test_scaled)\n",
    "\n",
    "# Predicera SANNOLIKHETER (Behövs för ROC AUC)\n",
    "# Vi tar sannolikheten för den positiva klassen (klass 1)\n",
    "y_proba_final = best_model.predict_proba(X_test_scaled)[:, 1] \n",
    "\n",
    "print(\"\\nFinal modell tränad och prediktioner genererade!\")"
   ]
  },
  {
   "cell_type": "markdown",
   "id": "9afe882b",
   "metadata": {},
   "source": [
    "###"
   ]
  },
  {
   "cell_type": "markdown",
   "id": "210e1e80",
   "metadata": {},
   "source": [
    "### Final Evaluation and Feature Importance"
   ]
  },
  {
   "cell_type": "code",
   "execution_count": 20,
   "id": "356559cf",
   "metadata": {},
   "outputs": [
    {
     "name": "stdout",
     "output_type": "stream",
     "text": [
      "\n",
      "============================================================\n",
      "FINAL XGBOOST CLASSIFIER PERFORMANCE\n",
      "============================================================\n",
      "Accuracy (Noggrannhet):     0.8275\n",
      "Precision:                  0.3801\n",
      "Recall (Träffsäkerhet):     0.5177\n",
      "F1-Score:                   0.4383\n",
      "ROC AUC Score:              0.7941\n",
      "============================================================\n",
      "\n",
      "Tolkning av Recall (viktigast för förseningar):\n",
      "- Modellen hittar 51.77% av alla faktiska förseningar.\n",
      "\n",
      "DETALJERAD TOLKNING (Confusion Matrix):\n",
      "- Korrekt förutspådda förseningar (True Positives, TP):     686\n",
      "- Missade förseningar (False Negatives, FN):                639\n",
      "- Falska larm (False Positives, FP):                        1119\n",
      "- Korrekt förutspådd icke-försening (True Negatives, TN):   7746\n",
      "\n",
      "Matrisen: \n",
      "[[7746 1119]\n",
      " [ 639  686]]\n"
     ]
    }
   ],
   "source": [
    "from sklearn.metrics import accuracy_score, f1_score, roc_auc_score, precision_score, recall_score, confusion_matrix\n",
    "\n",
    "# Beräkna final metrics\n",
    "accuracy = accuracy_score(y_test, y_pred_final)\n",
    "f1 = f1_score(y_test, y_pred_final)\n",
    "precision = precision_score(y_test, y_pred_final)\n",
    "recall = recall_score(y_test, y_pred_final)\n",
    "roc_auc = roc_auc_score(y_test, y_proba_final)\n",
    "\n",
    "# Beräkna Confusion Matrix för en mer detaljerad tolkning\n",
    "cm = confusion_matrix(y_test, y_pred_final)\n",
    "tn, fp, fn, tp = cm.ravel()\n",
    "\n",
    "print(\"\\n\" + \"=\"*60)\n",
    "print(\"FINAL XGBOOST CLASSIFIER PERFORMANCE\")\n",
    "print(\"=\"*60)\n",
    "print(f\"Accuracy (Noggrannhet):     {accuracy:.4f}\")\n",
    "print(f\"Precision:                  {precision:.4f}\")\n",
    "print(f\"Recall (Träffsäkerhet):     {recall:.4f}\")\n",
    "print(f\"F1-Score:                   {f1:.4f}\")\n",
    "print(f\"ROC AUC Score:              {roc_auc:.4f}\")\n",
    "print(\"=\"*60)\n",
    "\n",
    "print(\"\\nTolkning av Recall (viktigast för förseningar):\")\n",
    "print(f\"- Modellen hittar {recall:.2%} av alla faktiska förseningar.\")\n",
    "\n",
    "print(\"\\nDETALJERAD TOLKNING (Confusion Matrix):\")\n",
    "print(f\"- Korrekt förutspådda förseningar (True Positives, TP):     {tp}\")\n",
    "print(f\"- Missade förseningar (False Negatives, FN):                {fn}\")\n",
    "print(f\"- Falska larm (False Positives, FP):                        {fp}\")\n",
    "print(f\"- Korrekt förutspådd icke-försening (True Negatives, TN):   {tn}\")\n",
    "\n",
    "print(f\"\\nMatrisen: \\n{cm}\")"
   ]
  },
  {
   "cell_type": "code",
   "execution_count": 21,
   "id": "8bc1275b",
   "metadata": {},
   "outputs": [
    {
     "data": {
      "image/png": "[encoded data removed]",
      "text/plain": [
       "<Figure size 1000x600 with 1 Axes>"
      ]
     },
     "metadata": {},
     "output_type": "display_data"
    },
    {
     "name": "stdout",
     "output_type": "stream",
     "text": [
      "\n",
      "Topp 10 viktigaste features:\n"
     ]
    },
    {
     "data": {
      "application/vnd.microsoft.datawrangler.viewer.v0+json": {
       "columns": [
        {
         "name": "index",
         "rawType": "int64",
         "type": "integer"
        },
        {
         "name": "feature",
         "rawType": "object",
         "type": "string"
        },
        {
         "name": "importance",
         "rawType": "float32",
         "type": "float"
        }
       ],
       "ref": "010f35f2-b53e-425d-a814-1a5120531ffa",
       "rows": [
        [
         "0",
         "DistanceKm",
         "0.16939788"
        ],
        [
         "1",
         "TrainOwner_encoded",
         "0.13624547"
        ],
        [
         "2",
         "trip_typeoftraffic_encoded",
         "0.12772372"
        ],
        [
         "3",
         "is_weekday",
         "0.08692482"
        ],
        [
         "4",
         "arrival_station_encoded",
         "0.07222464"
        ],
        [
         "5",
         "Operator_encoded",
         "0.07182545"
        ],
        [
         "6",
         "departure_station_encoded",
         "0.06808658"
        ],
        [
         "7",
         "start_day_of_month",
         "0.06314428"
        ],
        [
         "8",
         "LocationSignatureArrival_encoded",
         "0.062561445"
        ],
        [
         "9",
         "start_hour",
         "0.057392005"
        ]
       ],
       "shape": {
        "columns": 2,
        "rows": 10
       }
      },
      "text/html": [
       "<div>\n",
       "<style scoped>\n",
       "    .dataframe tbody tr th:only-of-type {\n",
       "        vertical-align: middle;\n",
       "    }\n",
       "\n",
       "    .dataframe tbody tr th {\n",
       "        vertical-align: top;\n",
       "    }\n",
       "\n",
       "    .dataframe thead th {\n",
       "        text-align: right;\n",
       "    }\n",
       "</style>\n",
       "<table border=\"1\" class=\"dataframe\">\n",
       "  <thead>\n",
       "    <tr style=\"text-align: right;\">\n",
       "      <th></th>\n",
       "      <th>feature</th>\n",
       "      <th>importance</th>\n",
       "    </tr>\n",
       "  </thead>\n",
       "  <tbody>\n",
       "    <tr>\n",
       "      <th>0</th>\n",
       "      <td>DistanceKm</td>\n",
       "      <td>0.17</td>\n",
       "    </tr>\n",
       "    <tr>\n",
       "      <th>1</th>\n",
       "      <td>TrainOwner_encoded</td>\n",
       "      <td>0.14</td>\n",
       "    </tr>\n",
       "    <tr>\n",
       "      <th>2</th>\n",
       "      <td>trip_typeoftraffic_encoded</td>\n",
       "      <td>0.13</td>\n",
       "    </tr>\n",
       "    <tr>\n",
       "      <th>3</th>\n",
       "      <td>is_weekday</td>\n",
       "      <td>0.09</td>\n",
       "    </tr>\n",
       "    <tr>\n",
       "      <th>4</th>\n",
       "      <td>arrival_station_encoded</td>\n",
       "      <td>0.07</td>\n",
       "    </tr>\n",
       "    <tr>\n",
       "      <th>5</th>\n",
       "      <td>Operator_encoded</td>\n",
       "      <td>0.07</td>\n",
       "    </tr>\n",
       "    <tr>\n",
       "      <th>6</th>\n",
       "      <td>departure_station_encoded</td>\n",
       "      <td>0.07</td>\n",
       "    </tr>\n",
       "    <tr>\n",
       "      <th>7</th>\n",
       "      <td>start_day_of_month</td>\n",
       "      <td>0.06</td>\n",
       "    </tr>\n",
       "    <tr>\n",
       "      <th>8</th>\n",
       "      <td>LocationSignatureArrival_encoded</td>\n",
       "      <td>0.06</td>\n",
       "    </tr>\n",
       "    <tr>\n",
       "      <th>9</th>\n",
       "      <td>start_hour</td>\n",
       "      <td>0.06</td>\n",
       "    </tr>\n",
       "  </tbody>\n",
       "</table>\n",
       "</div>"
      ],
      "text/plain": [
       "                            feature  importance\n",
       "0                        DistanceKm        0.17\n",
       "1                TrainOwner_encoded        0.14\n",
       "2        trip_typeoftraffic_encoded        0.13\n",
       "3                        is_weekday        0.09\n",
       "4           arrival_station_encoded        0.07\n",
       "5                  Operator_encoded        0.07\n",
       "6         departure_station_encoded        0.07\n",
       "7                start_day_of_month        0.06\n",
       "8  LocationSignatureArrival_encoded        0.06\n",
       "9                        start_hour        0.06"
      ]
     },
     "metadata": {},
     "output_type": "display_data"
    }
   ],
   "source": [
    "# Feature importance\n",
    "if hasattr(best_model, 'feature_importances_'):\n",
    "    \n",
    "    # Skapa DataFrame (Samma som innan)\n",
    "    feature_importance = pd.DataFrame({\n",
    "        'feature': feature_cols,\n",
    "        'importance': best_model.feature_importances_\n",
    "    }).sort_values('importance', ascending=False).reset_index(drop=True)\n",
    "    \n",
    "    # Bestäm antalet features som ska visas\n",
    "    top_n = min(15, len(feature_importance))\n",
    "    plot_data = feature_importance.head(top_n)\n",
    "    \n",
    "    # --- Seaborn Visualisering ---\n",
    "    plt.figure(figsize=(10, 6))\n",
    "    \n",
    "    # Använd Seaborns barplot\n",
    "    sns.barplot(\n",
    "        x='importance',            # X-axeln: Värdet (vikten)\n",
    "        y='feature',               # Y-axeln: Feature-namnet\n",
    "        data=plot_data,            # Datakällan (endast top N)\n",
    "        palette='viridis'          # Använd ett snyggt färgschema\n",
    "    )\n",
    "    \n",
    "    plt.title(f'Topp {top_n} Viktigaste Features', fontsize=16)\n",
    "    plt.xlabel('Importance Score', fontsize=12)\n",
    "    plt.ylabel('Feature', fontsize=12)\n",
    "    # Seaborn sorterar automatiskt staplarna i den ordning de kommer i datat, \n",
    "    # så du behöver inte 'invert_yaxis()'\n",
    "    \n",
    "    plt.tight_layout()\n",
    "    plt.show()\n",
    "    \n",
    "    print(f\"\\nTopp 10 viktigaste features:\")\n",
    "    display(feature_importance.head(10))\n",
    "\n",
    "else:\n",
    "    print(\"Modellen (best_model) har ingen 'feature_importances_'-attribut.\")"
   ]
  },
  {
   "cell_type": "code",
   "execution_count": 22,
   "id": "a23a5704",
   "metadata": {},
   "outputs": [
    {
     "data": {
      "image/png": "[encoded data removed]",
      "text/plain": [
       "<Figure size 600x400 with 1 Axes>"
      ]
     },
     "metadata": {},
     "output_type": "display_data"
    },
    {
     "name": "stdout",
     "output_type": "stream",
     "text": [
      "\n",
      "Matrisinnehåll:\n",
      "Övre vänster (True Negatives): 7746 - Korrekt förutspådd i tid.\n",
      "Övre höger (False Positives): 1119 - Falska larm (Predicerad försening, men i tid).\n",
      "Nedre vänster (False Negatives): 639 - Missade förseningar (Predicerad i tid, men försenad).\n",
      "Nedre höger (True Positives): 686 - Korrekt förutspådd försening.\n"
     ]
    }
   ],
   "source": [
    "# Beräkna Confusion Matrix (y_test och y_pred_final är redan definierade)\n",
    "cm = confusion_matrix(y_test, y_pred_final)\n",
    "\n",
    "plt.figure(figsize=(6, 4))\n",
    "# Visualisera matrisen\n",
    "sns.heatmap(\n",
    "    cm, \n",
    "    annot=True, \n",
    "    fmt='d', \n",
    "    cmap='Blues',\n",
    "    cbar=False,\n",
    "    linewidths=0.5,\n",
    "    linecolor='black'\n",
    ")\n",
    "\n",
    "# Sätt etiketter för klasserna (0 = Inte Försenad, 1 = Försenad)\n",
    "plt.xlabel('Predicerad Klass')\n",
    "plt.ylabel('Faktisk Klass')\n",
    "plt.xticks([0.5, 1.5], ['Inte Försenad (0)', 'Försenad (1)'])\n",
    "plt.yticks([0.5, 1.5], ['Inte Försenad (0)', 'Försenad (1)'], rotation=0)\n",
    "plt.title('Confusion Matrix för Förseningsklassificering')\n",
    "plt.show()\n",
    "\n",
    "# Extra tolkning direkt under matrisen\n",
    "print(\"\\nMatrisinnehåll:\")\n",
    "print(f\"Övre vänster (True Negatives): {cm[0, 0]} - Korrekt förutspådd i tid.\")\n",
    "print(f\"Övre höger (False Positives): {cm[0, 1]} - Falska larm (Predicerad försening, men i tid).\")\n",
    "print(f\"Nedre vänster (False Negatives): {cm[1, 0]} - Missade förseningar (Predicerad i tid, men försenad).\")\n",
    "print(f\"Nedre höger (True Positives): {cm[1, 1]} - Korrekt förutspådd försening.\")"
   ]
  },
  {
   "cell_type": "code",
   "execution_count": 23,
   "id": "c631d149",
   "metadata": {},
   "outputs": [
    {
     "data": {
      "image/png": "[encoded data removed]",
      "text/plain": [
       "<Figure size 800x600 with 1 Axes>"
      ]
     },
     "metadata": {},
     "output_type": "display_data"
    },
    {
     "name": "stdout",
     "output_type": "stream",
     "text": [
      "\n",
      "ROC Curve Tolkning:\n",
      "- ROC AUC på 0.7941 bekräftar modellens starka förmåga att skilja mellan en försenad och icke-försenad klass.\n",
      "- Ju längre kurvan är från den diagonala linjen, desto bättre är klassificeringen.\n"
     ]
    }
   ],
   "source": [
    "# Beräkna False Positive Rate (FPR), True Positive Rate (TPR) och trösklar\n",
    "# y_proba_final är redan definierad som sannolikheten för klass 1 (försening)\n",
    "fpr, tpr, thresholds = roc_curve(y_test, y_proba_final)\n",
    "roc_auc = auc(fpr, tpr)\n",
    "\n",
    "plt.figure(figsize=(8, 6))\n",
    "plt.plot(\n",
    "    fpr, tpr, \n",
    "    color='darkorange', \n",
    "    lw=2, \n",
    "    label=f'ROC Curve (area = {roc_auc:.4f})'\n",
    ")\n",
    "# Linje för slumpmässig gissning (AUC = 0.5)\n",
    "plt.plot([0, 1], [0, 1], color='navy', lw=2, linestyle='--', label='Slumpmässig (AUC = 0.5)')\n",
    "\n",
    "plt.xlim([0.0, 1.0])\n",
    "plt.ylim([0.0, 1.05])\n",
    "plt.xlabel('False Positive Rate (FPR)')\n",
    "plt.ylabel('True Positive Rate (TPR) / Recall')\n",
    "plt.title('Receiver Operating Characteristic (ROC) Curve')\n",
    "plt.legend(loc='lower right')\n",
    "plt.grid(True, alpha=0.3)\n",
    "plt.show()\n",
    "\n",
    "# Utskrift av tolkning\n",
    "print(\"\\nROC Curve Tolkning:\")\n",
    "print(f\"- ROC AUC på {roc_auc:.4f} bekräftar modellens starka förmåga att skilja mellan en försenad och icke-försenad klass.\")\n",
    "print(\"- Ju längre kurvan är från den diagonala linjen, desto bättre är klassificeringen.\")"
   ]
  },
  {
   "cell_type": "code",
   "execution_count": 24,
   "id": "df4a9130",
   "metadata": {},
   "outputs": [
    {
     "name": "stdout",
     "output_type": "stream",
     "text": [
      "Modell sparad!\n",
      "\n",
      "För att ladda modellen senare:\n",
      "loaded_model = joblib.load('train_delay_model.pkl')\n",
      "loaded_scaler = joblib.load('train_delay_scaler.pkl')\n",
      "loaded_encoders = joblib.load('train_delay_encoders.pkl')\n"
     ]
    }
   ],
   "source": [
    "# Spara modell och scaler för framtida användning\n",
    "import joblib\n",
    "\n",
    "# Spara modell\n",
    "joblib.dump(best_model, 'train_delay_model.pkl')\n",
    "joblib.dump(scaler, 'train_delay_scaler.pkl')\n",
    "joblib.dump(label_encoders, 'train_delay_encoders.pkl')\n",
    "\n",
    "print(\"Modell sparad!\")\n",
    "print(\"\\nFör att ladda modellen senare:\")\n",
    "print(\"loaded_model = joblib.load('train_delay_model.pkl')\")\n",
    "print(\"loaded_scaler = joblib.load('train_delay_scaler.pkl')\")\n",
    "print(\"loaded_encoders = joblib.load('train_delay_encoders.pkl')\")\n"
   ]
  },
  {
   "cell_type": "code",
   "execution_count": 25,
   "id": "afb10680",
   "metadata": {},
   "outputs": [],
   "source": [
    "# Ladda planerad data för att titta på dess struktur\n",
    "file_path_planned = os.path.join('data', 'trips_planned_latest.parquet')\n",
    "df_planned_data = pd.read_parquet(file_path_planned)"
   ]
  },
  {
   "cell_type": "code",
   "execution_count": 26,
   "id": "bd4363c8",
   "metadata": {},
   "outputs": [
    {
     "name": "stdout",
     "output_type": "stream",
     "text": [
      "AdvertisedTrainIdent            object\n",
      "service_date            datetime64[ns]\n",
      "Tripdate                datetime64[ns]\n",
      "start_planned           datetime64[ns]\n",
      "end_planned             datetime64[ns]\n",
      "duration_minutes               float64\n",
      "start_station                   object\n",
      "end_station                     object\n",
      "stops_count                      int64\n",
      "through_stations                object\n",
      "any_canceled                      Int8\n",
      "Operator                        object\n",
      "TrainOwner                      object\n",
      "FromLocations                   object\n",
      "ToLocations                     object\n",
      "start_operator                  object\n",
      "start_owner                     object\n",
      "start_typeoftraffic             object\n",
      "start_deviation                 object\n",
      "start_hour                       int64\n",
      "start_weekday_                   int64\n",
      "start_mounth                     int64\n",
      "is_weekday                       int64\n",
      "distance_km                    float64\n",
      "dtype: object\n",
      "-------------------\n",
      "AdvertisedTrainIdent                          object\n",
      "TripStartDate                                 object\n",
      "LocationSignatureDeparture                    object\n",
      "LocationSignatureArrival                      object\n",
      "DepartureAdvertised                   datetime64[ns]\n",
      "DepartureActual                       datetime64[ns]\n",
      "ArrivalAdvertised                     datetime64[ns]\n",
      "ArrivalActual                         datetime64[ns]\n",
      "DelayMinutes                                 float64\n",
      "DurationActualMinutes                          int64\n",
      "DistanceKm                                   float64\n",
      "Canceled                                        bool\n",
      "Operator                                      object\n",
      "TrainOwner                                    object\n",
      "trip_typeoftraffic                            object\n",
      "departure_station                             object\n",
      "arrival_station                               object\n",
      "end_station_county                            object\n",
      "Deviation_Description                         object\n",
      "start_hour                                     int64\n",
      "start_day_of_month                             int64\n",
      "start_month                                    int64\n",
      "is_weekday                                     int64\n",
      "is_delayed                                     int64\n",
      "is_delayed_6min                                int32\n",
      "is_rush_hour                                   int32\n",
      "LocationSignatureDeparture_encoded             int32\n",
      "LocationSignatureArrival_encoded               int32\n",
      "Operator_encoded                               int32\n",
      "TrainOwner_encoded                             int32\n",
      "trip_typeoftraffic_encoded                     int32\n",
      "departure_station_encoded                      int32\n",
      "arrival_station_encoded                        int32\n",
      "dtype: object\n"
     ]
    }
   ],
   "source": [
    "print(df_planned_data.dtypes)\n",
    "print(\"-------------------\")\n",
    "print(df_processed.dtypes)"
   ]
  },
  {
   "cell_type": "code",
   "execution_count": 27,
   "id": "26317496",
   "metadata": {},
   "outputs": [
    {
     "name": "stdout",
     "output_type": "stream",
     "text": [
      "AdvertisedTrainIdent            object\n",
      "service_date            datetime64[ns]\n",
      "Tripdate                datetime64[ns]\n",
      "start_planned           datetime64[ns]\n",
      "end_planned             datetime64[ns]\n",
      "duration_minutes               float64\n",
      "start_station                   object\n",
      "end_station                     object\n",
      "stops_count                      int64\n",
      "through_stations                object\n",
      "any_canceled                      Int8\n",
      "Operator                        object\n",
      "TrainOwner                      object\n",
      "FromLocations                   object\n",
      "ToLocations                     object\n",
      "start_operator                  object\n",
      "start_owner                     object\n",
      "start_typeoftraffic             object\n",
      "start_deviation                 object\n",
      "start_hour                       int64\n",
      "start_weekday_                   int64\n",
      "start_mounth                     int64\n",
      "is_weekday                       int64\n",
      "distance_km                    float64\n",
      "dtype: object\n",
      "0     NR\n",
      "1     MC\n",
      "2     DU\n",
      "3    CST\n",
      "4    HIE\n",
      "5     CK\n",
      "6    HIE\n",
      "7    HIE\n",
      "8    KAC\n",
      "9    HIE\n",
      "Name: end_station, dtype: object\n",
      "0    Uppsala län\n",
      "1      Skåne län\n",
      "2      Skåne län\n",
      "3      Skåne län\n",
      "4      Skåne län\n",
      "5      Skåne län\n",
      "6      Skåne län\n",
      "7      Skåne län\n",
      "8      Skåne län\n",
      "9      Skåne län\n",
      "Name: end_station_county, dtype: object\n"
     ]
    }
   ],
   "source": [
    "print(df_planned_data.dtypes)\n",
    "print(df_planned_data['end_station'].head(10))\n",
    "print(df_processed['end_station_county'].head(10))"
   ]
  },
  {
   "cell_type": "markdown",
   "id": "5db799d7",
   "metadata": {},
   "source": [
    "### Prediktionskedjan"
   ]
  },
  {
   "cell_type": "code",
   "execution_count": 28,
   "id": "0c29864f",
   "metadata": {},
   "outputs": [
    {
     "name": "stdout",
     "output_type": "stream",
     "text": [
      "--------------------------------------------------\n",
      "DEBUG 'LocationSignatureDeparture': Ursprunglig le.classes_ före fix:\n",
      "  Typ: <class 'numpy.ndarray'>\n",
      "  Form: (285,)\n",
      "  Första 5 element: ['A' 'Al' 'Alh' 'Ar' 'Arb']\n",
      "✓ Lade till 'UNKNOWN' i Label Encoder för 'LocationSignatureDeparture'.\n",
      "DEBUG 'LocationSignatureDeparture': Efter fix, Form: (286,)\n",
      "--------------------------------------------------\n",
      "--------------------------------------------------\n",
      "DEBUG 'LocationSignatureArrival': Ursprunglig le.classes_ före fix:\n",
      "  Typ: <class 'numpy.ndarray'>\n",
      "  Form: (249,)\n",
      "  Första 5 element: ['A' 'Alh' 'Ar' 'Ara' 'Arb']\n",
      "✓ Lade till 'UNKNOWN' i Label Encoder för 'LocationSignatureArrival'.\n",
      "DEBUG 'LocationSignatureArrival': Efter fix, Form: (250,)\n",
      "--------------------------------------------------\n",
      "--------------------------------------------------\n",
      "DEBUG 'Operator': Ursprunglig le.classes_ före fix:\n",
      "  Typ: <class 'numpy.ndarray'>\n",
      "  Form: (14,)\n",
      "  Första 5 element: ['ARRIVA' 'ATRAIN' 'FSVJ' 'MTRX' 'NJ']\n",
      "✓ Lade till 'UNKNOWN' i Label Encoder för 'Operator'.\n",
      "DEBUG 'Operator': Efter fix, Form: (15,)\n",
      "--------------------------------------------------\n",
      "--------------------------------------------------\n",
      "DEBUG 'TrainOwner': Ursprunglig le.classes_ före fix:\n",
      "  Typ: <class 'numpy.ndarray'>\n",
      "  Form: (22,)\n",
      "  Första 5 element: ['ARRIVA' 'ATRAIN' 'FSVJ' 'JLT' 'MTRX']\n",
      "✓ Lade till 'UNKNOWN' i Label Encoder för 'TrainOwner'.\n",
      "DEBUG 'TrainOwner': Efter fix, Form: (23,)\n",
      "--------------------------------------------------\n",
      "--------------------------------------------------\n",
      "DEBUG 'trip_typeoftraffic': Ursprunglig le.classes_ före fix:\n",
      "  Typ: <class 'numpy.ndarray'>\n",
      "  Form: (3,)\n",
      "  Första 5 element: ['None' 'YNA001' 'YNA004']\n",
      "✓ Lade till 'UNKNOWN' i Label Encoder för 'trip_typeoftraffic'.\n",
      "DEBUG 'trip_typeoftraffic': Efter fix, Form: (4,)\n",
      "--------------------------------------------------\n",
      "--------------------------------------------------\n",
      "DEBUG 'departure_station': Ursprunglig le.classes_ före fix:\n",
      "  Typ: <class 'numpy.ndarray'>\n",
      "  Form: (285,)\n",
      "  Första 5 element: ['Alingsås' 'Alvesta' 'Alvhem' 'Arboga' 'Arlanda central']\n",
      "✓ Lade till 'UNKNOWN' i Label Encoder för 'departure_station'.\n",
      "DEBUG 'departure_station': Efter fix, Form: (286,)\n",
      "--------------------------------------------------\n",
      "--------------------------------------------------\n",
      "DEBUG 'arrival_station': Ursprunglig le.classes_ före fix:\n",
      "  Typ: <class 'numpy.ndarray'>\n",
      "  Form: (249,)\n",
      "  Första 5 element: ['Alingsås' 'Alvesta' 'Alvhem' 'Arboga' 'Arlanda central']\n",
      "✓ Lade till 'UNKNOWN' i Label Encoder för 'arrival_station'.\n",
      "DEBUG 'arrival_station': Efter fix, Form: (250,)\n",
      "--------------------------------------------------\n",
      "\n",
      "✓ Modell, Scaler och Encoders laddade framgångsrikt.\n",
      "\n",
      "✓ Laddat ny planerad data: 3632 rader\n",
      "✓ Inga duplicerade index.\n",
      "Total längd på DataFrame: 3632\n",
      "\n",
      "✓ Kolumnnamn synkroniserade\n",
      "\n",
      "✓ Feature 'start_day_of_month' skapad\n",
      "✓ Feature 'planned_duration_min' skapad\n",
      "✓ Feature 'is_rush_hour' skapad\n",
      "\n",
      "(3632, 2)\n",
      "  Operator Operator\n",
      "0       SJ       SJ\n",
      "1       SJ       SJ\n",
      "2       SJ       SJ\n",
      "3       SJ       SJ\n",
      "4     TDEV     TDEV\n",
      "Index(['Operator', 'TrainOwner', 'is_weekday'], dtype='object')\n",
      "Applicerar Label Encoders...\n",
      "\n",
      "⚠️ Hittade 3 dubblettkolumner: ['Operator', 'TrainOwner', 'is_weekday']\n",
      "✓ Dubblettkolumner borttagna.\n",
      "\n",
      "\n",
      "========================================\n",
      "Kodning av kolumn: LocationSignatureDeparture\n",
      "========================================\n",
      "--------------------\n",
      "DEBUG LocationSignatureDeparture:\n",
      "  Längd på inputvärden: 3632\n",
      "  Längd på transformerade värden: 3632\n",
      "  Första 5 kodade värden: [ 35  35  35 260 140]\n",
      "--------------------\n",
      "✓ LocationSignatureDeparture_encoded tillagd i encoded_cols.\n",
      "\n",
      "========================================\n",
      "Kodning av kolumn: LocationSignatureArrival\n",
      "========================================\n",
      "--------------------\n",
      "DEBUG LocationSignatureArrival:\n",
      "  Längd på inputvärden: 3632\n",
      "  Längd på transformerade värden: 3632\n",
      "  Första 5 kodade värden: [126 126  30  28 249]\n",
      "--------------------\n",
      "✓ LocationSignatureArrival_encoded tillagd i encoded_cols.\n",
      "\n",
      "========================================\n",
      "Kodning av kolumn: Operator\n",
      "========================================\n",
      "--------------------\n",
      "DEBUG Operator:\n",
      "  Längd på inputvärden: 3632\n",
      "  Längd på transformerade värden: 3632\n",
      "  Första 5 kodade värden: [ 6  6  6  6 10]\n",
      "--------------------\n",
      "✓ Operator_encoded tillagd i encoded_cols.\n",
      "\n",
      "========================================\n",
      "Kodning av kolumn: TrainOwner\n",
      "========================================\n",
      "--------------------\n",
      "DEBUG TrainOwner:\n",
      "  Längd på inputvärden: 3632\n",
      "  Längd på transformerade värden: 3632\n",
      "  Första 5 kodade värden: [ 9  9  9  9 10]\n",
      "--------------------\n",
      "✓ TrainOwner_encoded tillagd i encoded_cols.\n",
      "\n",
      "========================================\n",
      "Kodning av kolumn: trip_typeoftraffic\n",
      "========================================\n",
      "--------------------\n",
      "DEBUG trip_typeoftraffic:\n",
      "  Längd på inputvärden: 3632\n",
      "  Längd på transformerade värden: 3632\n",
      "  Första 5 kodade värden: [3 3 3 3 3]\n",
      "--------------------\n",
      "✓ trip_typeoftraffic_encoded tillagd i encoded_cols.\n",
      "\n",
      "========================================\n",
      "Kodning av kolumn: departure_station\n",
      "========================================\n",
      "--------------------\n",
      "DEBUG departure_station:\n",
      "  Längd på inputvärden: 3632\n",
      "  Längd på transformerade värden: 3632\n",
      "  Första 5 kodade värden: [285 285 285 285 285]\n",
      "--------------------\n",
      "✓ departure_station_encoded tillagd i encoded_cols.\n",
      "\n",
      "========================================\n",
      "Kodning av kolumn: arrival_station\n",
      "========================================\n",
      "--------------------\n",
      "DEBUG arrival_station:\n",
      "  Längd på inputvärden: 3632\n",
      "  Längd på transformerade värden: 3632\n",
      "  Första 5 kodade värden: [249 249 249 249 249]\n",
      "--------------------\n",
      "✓ arrival_station_encoded tillagd i encoded_cols.\n",
      "\n",
      "✅ Alla 7 kodade kolumner sammanfogade. Ny shape: (3632, 31)\n",
      "\n",
      "✓ Label Encoding slutförd.\n",
      "\n",
      "✓ Features valda: 13 kolumner\n",
      "✓ Data skalad: (3632, 13)\n",
      "\n",
      "🔮 Gör prediktioner...\n",
      "\n",
      "======================================================================\n",
      "✅ PREDIKTIONER SLUTFÖRDA!\n",
      "======================================================================\n",
      "📊 Totalt antal tåg: 3,632\n",
      "🚨 Förutspådda förseningar: 415 (11.4%)\n",
      "✅ Förutspådda i tid: 3,217 (88.6%)\n",
      "======================================================================\n",
      "\n",
      "🚨 TOPP 15 HÖGRISKTÅG FÖR FÖRSENING:\n",
      "----------------------------------------------------------------------\n"
     ]
    },
    {
     "data": {
      "application/vnd.microsoft.datawrangler.viewer.v0+json": {
       "columns": [
        {
         "name": "index",
         "rawType": "int64",
         "type": "integer"
        },
        {
         "name": "Tåg ID",
         "rawType": "object",
         "type": "string"
        },
        {
         "name": "Avgångstid",
         "rawType": "datetime64[ns]",
         "type": "datetime"
        },
        {
         "name": "Från Station",
         "rawType": "object",
         "type": "string"
        },
        {
         "name": "Till Station",
         "rawType": "object",
         "type": "string"
        },
        {
         "name": "Operatör",
         "rawType": "object",
         "type": "string"
        },
        {
         "name": "Tågägare",
         "rawType": "object",
         "type": "string"
        },
        {
         "name": "Distans (km)",
         "rawType": "float64",
         "type": "float"
        },
        {
         "name": "Risk (%)",
         "rawType": "float32",
         "type": "float"
        }
       ],
       "ref": "227e2f46-ec7e-4b18-91eb-7c85ff375097",
       "rows": [
        [
         "0",
         "598",
         "2025-10-29 15:50:00",
         "CST",
         "ÖS",
         "SJ",
         "SJ",
         "464.0",
         "89.8"
        ],
        [
         "1",
         "578",
         "2025-10-29 14:21:00",
         "CST",
         "UÅ",
         "SJ",
         "SJ",
         "514.0",
         "89.3"
        ],
        [
         "2",
         "505",
         "2025-10-29 15:57:00",
         "CST",
         "MC",
         "SJ",
         "SJ",
         "512.0",
         "88.8"
        ],
        [
         "3",
         "541",
         "2025-10-29 15:17:00",
         "CST",
         "MC",
         "SJ",
         "SJ",
         "512.0",
         "88.8"
        ],
        [
         "4",
         "543",
         "2025-10-29 16:26:00",
         "CST",
         "MC",
         "SJ",
         "SJ",
         "512.0",
         "88.1"
        ],
        [
         "5",
         "85",
         "2025-10-29 14:32:00",
         "DU",
         "CST",
         "SJ",
         "SJ",
         "528.0",
         "87.9"
        ],
        [
         "6",
         "3943",
         "2025-10-29 15:20:00",
         "CST",
         "MC",
         "SNÄLL",
         "SNÄLL",
         "512.0",
         "87.7"
        ],
        [
         "7",
         "345",
         "2025-10-29 16:34:00",
         "CST",
         "MC",
         "SJ",
         "SJ",
         "512.0",
         "87.3"
        ],
        [
         "8",
         "560",
         "2025-10-29 05:22:00",
         "CST",
         "UÅ",
         "SJ",
         "SJ",
         "514.0",
         "87.2"
        ],
        [
         "9",
         "582",
         "2025-10-29 16:23:00",
         "CST",
         "UÅ",
         "SJ",
         "SJ",
         "514.0",
         "87.1"
        ],
        [
         "10",
         "546",
         "2025-10-29 16:07:00",
         "MC",
         "CST",
         "SJ",
         "SJ",
         "512.0",
         "86.9"
        ],
        [
         "11",
         "539",
         "2025-10-29 14:24:00",
         "CST",
         "MC",
         "SJ",
         "SJ",
         "512.0",
         "86.6"
        ],
        [
         "12",
         "186",
         "2025-10-29 15:24:00",
         "G",
         "CST",
         "SJ",
         "SJ",
         "396.0",
         "85.4"
        ],
        [
         "13",
         "442",
         "2025-10-29 15:19:00",
         "G",
         "CST",
         "SJ",
         "SJ",
         "396.0",
         "85.4"
        ],
        [
         "14",
         "548",
         "2025-10-29 17:07:00",
         "MC",
         "CST",
         "SJ",
         "SJ",
         "512.0",
         "85.4"
        ]
       ],
       "shape": {
        "columns": 8,
        "rows": 15
       }
      },
      "text/html": [
       "<div>\n",
       "<style scoped>\n",
       "    .dataframe tbody tr th:only-of-type {\n",
       "        vertical-align: middle;\n",
       "    }\n",
       "\n",
       "    .dataframe tbody tr th {\n",
       "        vertical-align: top;\n",
       "    }\n",
       "\n",
       "    .dataframe thead th {\n",
       "        text-align: right;\n",
       "    }\n",
       "</style>\n",
       "<table border=\"1\" class=\"dataframe\">\n",
       "  <thead>\n",
       "    <tr style=\"text-align: right;\">\n",
       "      <th></th>\n",
       "      <th>Tåg ID</th>\n",
       "      <th>Avgångstid</th>\n",
       "      <th>Från Station</th>\n",
       "      <th>Till Station</th>\n",
       "      <th>Operatör</th>\n",
       "      <th>Tågägare</th>\n",
       "      <th>Distans (km)</th>\n",
       "      <th>Risk (%)</th>\n",
       "    </tr>\n",
       "  </thead>\n",
       "  <tbody>\n",
       "    <tr>\n",
       "      <th>0</th>\n",
       "      <td>598</td>\n",
       "      <td>2025-10-29 15:50:00</td>\n",
       "      <td>CST</td>\n",
       "      <td>ÖS</td>\n",
       "      <td>SJ</td>\n",
       "      <td>SJ</td>\n",
       "      <td>464.00</td>\n",
       "      <td>89.80</td>\n",
       "    </tr>\n",
       "    <tr>\n",
       "      <th>1</th>\n",
       "      <td>578</td>\n",
       "      <td>2025-10-29 14:21:00</td>\n",
       "      <td>CST</td>\n",
       "      <td>UÅ</td>\n",
       "      <td>SJ</td>\n",
       "      <td>SJ</td>\n",
       "      <td>514.00</td>\n",
       "      <td>89.30</td>\n",
       "    </tr>\n",
       "    <tr>\n",
       "      <th>2</th>\n",
       "      <td>505</td>\n",
       "      <td>2025-10-29 15:57:00</td>\n",
       "      <td>CST</td>\n",
       "      <td>MC</td>\n",
       "      <td>SJ</td>\n",
       "      <td>SJ</td>\n",
       "      <td>512.00</td>\n",
       "      <td>88.80</td>\n",
       "    </tr>\n",
       "    <tr>\n",
       "      <th>3</th>\n",
       "      <td>541</td>\n",
       "      <td>2025-10-29 15:17:00</td>\n",
       "      <td>CST</td>\n",
       "      <td>MC</td>\n",
       "      <td>SJ</td>\n",
       "      <td>SJ</td>\n",
       "      <td>512.00</td>\n",
       "      <td>88.80</td>\n",
       "    </tr>\n",
       "    <tr>\n",
       "      <th>4</th>\n",
       "      <td>543</td>\n",
       "      <td>2025-10-29 16:26:00</td>\n",
       "      <td>CST</td>\n",
       "      <td>MC</td>\n",
       "      <td>SJ</td>\n",
       "      <td>SJ</td>\n",
       "      <td>512.00</td>\n",
       "      <td>88.10</td>\n",
       "    </tr>\n",
       "    <tr>\n",
       "      <th>5</th>\n",
       "      <td>85</td>\n",
       "      <td>2025-10-29 14:32:00</td>\n",
       "      <td>DU</td>\n",
       "      <td>CST</td>\n",
       "      <td>SJ</td>\n",
       "      <td>SJ</td>\n",
       "      <td>528.00</td>\n",
       "      <td>87.90</td>\n",
       "    </tr>\n",
       "    <tr>\n",
       "      <th>6</th>\n",
       "      <td>3943</td>\n",
       "      <td>2025-10-29 15:20:00</td>\n",
       "      <td>CST</td>\n",
       "      <td>MC</td>\n",
       "      <td>SNÄLL</td>\n",
       "      <td>SNÄLL</td>\n",
       "      <td>512.00</td>\n",
       "      <td>87.70</td>\n",
       "    </tr>\n",
       "    <tr>\n",
       "      <th>7</th>\n",
       "      <td>345</td>\n",
       "      <td>2025-10-29 16:34:00</td>\n",
       "      <td>CST</td>\n",
       "      <td>MC</td>\n",
       "      <td>SJ</td>\n",
       "      <td>SJ</td>\n",
       "      <td>512.00</td>\n",
       "      <td>87.30</td>\n",
       "    </tr>\n",
       "    <tr>\n",
       "      <th>8</th>\n",
       "      <td>560</td>\n",
       "      <td>2025-10-29 05:22:00</td>\n",
       "      <td>CST</td>\n",
       "      <td>UÅ</td>\n",
       "      <td>SJ</td>\n",
       "      <td>SJ</td>\n",
       "      <td>514.00</td>\n",
       "      <td>87.20</td>\n",
       "    </tr>\n",
       "    <tr>\n",
       "      <th>9</th>\n",
       "      <td>582</td>\n",
       "      <td>2025-10-29 16:23:00</td>\n",
       "      <td>CST</td>\n",
       "      <td>UÅ</td>\n",
       "      <td>SJ</td>\n",
       "      <td>SJ</td>\n",
       "      <td>514.00</td>\n",
       "      <td>87.10</td>\n",
       "    </tr>\n",
       "    <tr>\n",
       "      <th>10</th>\n",
       "      <td>546</td>\n",
       "      <td>2025-10-29 16:07:00</td>\n",
       "      <td>MC</td>\n",
       "      <td>CST</td>\n",
       "      <td>SJ</td>\n",
       "      <td>SJ</td>\n",
       "      <td>512.00</td>\n",
       "      <td>86.90</td>\n",
       "    </tr>\n",
       "    <tr>\n",
       "      <th>11</th>\n",
       "      <td>539</td>\n",
       "      <td>2025-10-29 14:24:00</td>\n",
       "      <td>CST</td>\n",
       "      <td>MC</td>\n",
       "      <td>SJ</td>\n",
       "      <td>SJ</td>\n",
       "      <td>512.00</td>\n",
       "      <td>86.60</td>\n",
       "    </tr>\n",
       "    <tr>\n",
       "      <th>12</th>\n",
       "      <td>186</td>\n",
       "      <td>2025-10-29 15:24:00</td>\n",
       "      <td>G</td>\n",
       "      <td>CST</td>\n",
       "      <td>SJ</td>\n",
       "      <td>SJ</td>\n",
       "      <td>396.00</td>\n",
       "      <td>85.40</td>\n",
       "    </tr>\n",
       "    <tr>\n",
       "      <th>13</th>\n",
       "      <td>442</td>\n",
       "      <td>2025-10-29 15:19:00</td>\n",
       "      <td>G</td>\n",
       "      <td>CST</td>\n",
       "      <td>SJ</td>\n",
       "      <td>SJ</td>\n",
       "      <td>396.00</td>\n",
       "      <td>85.40</td>\n",
       "    </tr>\n",
       "    <tr>\n",
       "      <th>14</th>\n",
       "      <td>548</td>\n",
       "      <td>2025-10-29 17:07:00</td>\n",
       "      <td>MC</td>\n",
       "      <td>CST</td>\n",
       "      <td>SJ</td>\n",
       "      <td>SJ</td>\n",
       "      <td>512.00</td>\n",
       "      <td>85.40</td>\n",
       "    </tr>\n",
       "  </tbody>\n",
       "</table>\n",
       "</div>"
      ],
      "text/plain": [
       "   Tåg ID          Avgångstid Från Station Till Station Operatör Tågägare  \\\n",
       "0     598 2025-10-29 15:50:00          CST           ÖS       SJ       SJ   \n",
       "1     578 2025-10-29 14:21:00          CST           UÅ       SJ       SJ   \n",
       "2     505 2025-10-29 15:57:00          CST           MC       SJ       SJ   \n",
       "3     541 2025-10-29 15:17:00          CST           MC       SJ       SJ   \n",
       "4     543 2025-10-29 16:26:00          CST           MC       SJ       SJ   \n",
       "5      85 2025-10-29 14:32:00           DU          CST       SJ       SJ   \n",
       "6    3943 2025-10-29 15:20:00          CST           MC    SNÄLL    SNÄLL   \n",
       "7     345 2025-10-29 16:34:00          CST           MC       SJ       SJ   \n",
       "8     560 2025-10-29 05:22:00          CST           UÅ       SJ       SJ   \n",
       "9     582 2025-10-29 16:23:00          CST           UÅ       SJ       SJ   \n",
       "10    546 2025-10-29 16:07:00           MC          CST       SJ       SJ   \n",
       "11    539 2025-10-29 14:24:00          CST           MC       SJ       SJ   \n",
       "12    186 2025-10-29 15:24:00            G          CST       SJ       SJ   \n",
       "13    442 2025-10-29 15:19:00            G          CST       SJ       SJ   \n",
       "14    548 2025-10-29 17:07:00           MC          CST       SJ       SJ   \n",
       "\n",
       "    Distans (km)  Risk (%)  \n",
       "0         464.00     89.80  \n",
       "1         514.00     89.30  \n",
       "2         512.00     88.80  \n",
       "3         512.00     88.80  \n",
       "4         512.00     88.10  \n",
       "5         528.00     87.90  \n",
       "6         512.00     87.70  \n",
       "7         512.00     87.30  \n",
       "8         514.00     87.20  \n",
       "9         514.00     87.10  \n",
       "10        512.00     86.90  \n",
       "11        512.00     86.60  \n",
       "12        396.00     85.40  \n",
       "13        396.00     85.40  \n",
       "14        512.00     85.40  "
      ]
     },
     "metadata": {},
     "output_type": "display_data"
    },
    {
     "name": "stdout",
     "output_type": "stream",
     "text": [
      "\n",
      "📈 STATISTIK FÖR HÖGRISKTÅG:\n",
      " • Medel sannolikhet:               64.2%\n",
      " • Max sannolikhet:                 89.8%\n",
      " • Antal över 80% risk:             40 st\n",
      " • Antal över 90% risk:             0 st\n",
      " • Antal över medel 64.2% risk:      180 st\n",
      "\n",
      "💾 Alla prediktioner exporterade till: predictions\\predictions_all_20251030_0949.parquet\n",
      "🚨 Högrisktåg exporterade till: predictions\\predictions_highrisk_20251030_0949.parquet\n",
      "\n",
      "✅ ALLT KLART! 🎉\n"
     ]
    }
   ],
   "source": [
    "# --- STEG 1: Ladda sparade objekt och lägg till UNKNOWN ---\n",
    "try:\n",
    "    loaded_model = joblib.load('train_delay_model.pkl')\n",
    "    loaded_scaler = joblib.load('train_delay_scaler.pkl')\n",
    "    loaded_label_encoders = joblib.load('train_delay_encoders.pkl')\n",
    "    \n",
    "\n",
    "    # FIX: Tvinga in 'UNKNOWN' i alla Label Encoders och stabilisera arrayen\n",
    "    for col, le in loaded_label_encoders.items():\n",
    "\n",
    "        # <<< DEBUGGING HÄR >>>\n",
    "        print(\"-\" * 50)\n",
    "        print(f\"DEBUG '{col}': Ursprunglig le.classes_ före fix:\")\n",
    "        print(f\"  Typ: {type(le.classes_)}\")\n",
    "        try:\n",
    "            print(f\"  Form: {le.classes_.shape}\")\n",
    "        except AttributeError:\n",
    "            print(f\"  Form: Kan inte bestämmas\")\n",
    "        print(f\"  Första 5 element: {le.classes_[:5]}\")\n",
    "        \n",
    "        # 1. Stabilisera classes_ till en ren 1D NumPy-array\n",
    "        le.classes_ = np.asarray(le.classes_).ravel()\n",
    "        \n",
    "        # 2. Lägg till 'UNKNOWN' om den saknas\n",
    "        if 'UNKNOWN' not in le.classes_:\n",
    "            # Använd np.append och .ravel() för att säkerställa 1D-format\n",
    "            le.classes_ = np.append(le.classes_, 'UNKNOWN').ravel()\n",
    "            print(f\"✓ Lade till 'UNKNOWN' i Label Encoder för '{col}'.\")\n",
    "        \n",
    "        # NY DEBUG: Efter fix\n",
    "        print(f\"DEBUG '{col}': Efter fix, Form: {le.classes_.shape}\")\n",
    "        print(\"-\" * 50)\n",
    "    89999999997\n",
    "    print(\"\\n✓ Modell, Scaler och Encoders laddade framgångsrikt.\\n\")\n",
    "\n",
    "except FileNotFoundError as e:\n",
    "    print(f\"❌ FEL: Kunde inte hitta fil: {e}\")\n",
    "    raise\n",
    "\n",
    "\n",
    "# --- STEG 2: Ladda ny planerad data (MED INDEX KONTROLL) ---\n",
    "file_path_planned = os.path.join('data', 'trips_planned_latest.parquet')\n",
    "df_planned_data = pd.read_parquet(file_path_planned)\n",
    "df_planned_processed = df_planned_data.copy()\n",
    "print(f\"✓ Laddat ny planerad data: {df_planned_processed.shape[0]} rader\")\n",
    "\n",
    "# KRITISK INDEX DEBUG\n",
    "if df_planned_processed.index.duplicated().any():\n",
    "    print(f\"❌ KRITISKT FEL: Dubblerade index hittades! Antal: {df_planned_processed.index.duplicated().sum()}\")\n",
    "    # Lösning: Återställ indexet till en enkel heltalssekvens\n",
    "    df_planned_processed = df_planned_processed.reset_index(drop=True)\n",
    "    print(\"✓ Index återställt för att lösa dupliceringsproblem.\")\n",
    "else:\n",
    "    print(\"✓ Inga duplicerade index.\")\n",
    "print(f\"Total längd på DataFrame: {len(df_planned_processed.index)}\\n\")\n",
    "\n",
    "\n",
    "# --- STEG 3: Döp om kolumner för att matcha träningsdata ---\n",
    "rename_map = {\n",
    "    'distance_km': 'DistanceKm',\n",
    "    'any_canceled': 'Canceled',\n",
    "    'start_weekday_': 'is_weekday', \n",
    "    'start_mounth': 'start_month',\n",
    "    'FromLocations': 'LocationSignatureDeparture',\n",
    "    'ToLocations': 'LocationSignatureArrival',\n",
    "    'start_operator': 'Operator',\n",
    "    'start_owner': 'TrainOwner',\n",
    "    'start_typeoftraffic': 'trip_typeoftraffic',\n",
    "    'start_station': 'departure_station',\n",
    "    'end_station': 'arrival_station',\n",
    "    'Tripdate': 'TripStartDate'\n",
    "}\n",
    "\n",
    "df_planned_processed.rename(columns=rename_map, inplace=True)\n",
    "print(\"✓ Kolumnnamn synkroniserade\\n\")\n",
    "\n",
    "\n",
    "# --- STEG 4: Skapa saknade kategoriska kolumner ---\n",
    "required_categorical_cols = [\n",
    "    'LocationSignatureDeparture', \n",
    "    'LocationSignatureArrival', \n",
    "    'Operator', \n",
    "    'TrainOwner', \n",
    "    'trip_typeoftraffic', \n",
    "    'departure_station', \n",
    "    'arrival_station'\n",
    "]\n",
    "\n",
    "for col in required_categorical_cols:\n",
    "    if col not in df_planned_processed.columns:\n",
    "        df_planned_processed[col] = 'UNKNOWN'\n",
    "        print(f\"→ Skapade saknad kolumn: '{col}' (fylld med UNKNOWN)\")\n",
    "\n",
    "\n",
    "# --- STEG 5: Konvertera datetime och skapa time-features ---\n",
    "datetime_cols = ['start_planned', 'end_planned']\n",
    "for col in datetime_cols:\n",
    "    if col in df_planned_processed.columns:\n",
    "        df_planned_processed[col] = pd.to_datetime(df_planned_processed[col])\n",
    "\n",
    "if 'start_planned' in df_planned_processed.columns:\n",
    "    df_planned_processed['start_day_of_month'] = df_planned_processed['start_planned'].dt.day\n",
    "    print(\"✓ Feature 'start_day_of_month' skapad\")\n",
    "\n",
    "if 'end_planned' in df_planned_processed.columns and 'start_planned' in df_planned_processed.columns:\n",
    "    df_planned_processed['planned_duration_min'] = (\n",
    "        df_planned_processed['end_planned'] - df_planned_processed['start_planned']\n",
    "    ).dt.total_seconds() / 60\n",
    "    print(\"✓ Feature 'planned_duration_min' skapad\")\n",
    "\n",
    "if 'start_hour' in df_planned_processed.columns:\n",
    "    df_planned_processed['is_rush_hour'] = df_planned_processed['start_hour'].isin([7,8,9,16,17,18]).astype(int)\n",
    "    print(\"✓ Feature 'is_rush_hour' skapad\\n\")\n",
    "\n",
    "print(df_planned_processed['Operator'].shape)\n",
    "print(df_planned_processed['Operator'].head())\n",
    "print(df_planned_processed.columns[df_planned_processed.columns.duplicated()])\n",
    "\n",
    "# --- STEG 6: Applicera Label Encoding (stabil version utan label_enc_mappings) ---\n",
    "print(\"Applicerar Label Encoders...\\n\")\n",
    "\n",
    "# --- Rensar bort dubblettkolumner på DataFrame-nivå ---\n",
    "dup_cols = df_planned_processed.columns[df_planned_processed.columns.duplicated()]\n",
    "if len(dup_cols) > 0:\n",
    "    print(f\"⚠️ Hittade {len(dup_cols)} dubblettkolumner: {list(dup_cols)}\")\n",
    "    # Behåll endast den första förekomsten av varje kolumnnamn\n",
    "    df_planned_processed = df_planned_processed.loc[:, ~df_planned_processed.columns.duplicated()]\n",
    "    print(\"✓ Dubblettkolumner borttagna.\\n\")\n",
    "\n",
    "# --- Säkerhetsfix: upptäck och hantera kolumner som blivit DataFrames med flera kopior ---\n",
    "for col in required_categorical_cols:\n",
    "    if col in df_planned_processed.columns:\n",
    "        col_data = df_planned_processed[col]\n",
    "\n",
    "        # Om kolumnen i själva verket är en DataFrame med flera kolumner:\n",
    "        if isinstance(col_data, pd.DataFrame):\n",
    "            print(f\"⚠️ Kolumn '{col}' består av {col_data.shape[1]} dubblettkolumner. Tar endast första kolumnen.\")\n",
    "            df_planned_processed[col] = col_data.iloc[:, 0]\n",
    "\n",
    "        # Om kolumnen är en Series med duplicerade namn i MultiIndex\n",
    "        elif hasattr(col_data, \"columns\") and len(getattr(col_data, \"columns\", [])) > 1:\n",
    "            print(f\"⚠️ Kolumn '{col}' har flera subkolumner. Tar första.\")\n",
    "            df_planned_processed[col] = col_data.iloc[:, 0]\n",
    "\n",
    "encoded_cols = {}\n",
    "index_to_use = df_planned_processed.index  # Spara index en gång\n",
    "\n",
    "for col in required_categorical_cols:\n",
    "    print(f\"\\n{'='*40}\\nKodning av kolumn: {col}\\n{'='*40}\")\n",
    "\n",
    "    if col not in df_planned_processed.columns:\n",
    "        print(f\"⚠️ Kolumn '{col}' saknas i df_planned_processed – hoppar över.\")\n",
    "        continue\n",
    "\n",
    "    if col not in loaded_label_encoders:\n",
    "        print(f\"⚠️ Ingen LabelEncoder hittades för '{col}' – hoppar över.\")\n",
    "        continue\n",
    "\n",
    "    le = loaded_label_encoders[col]\n",
    "\n",
    "    # Kontrollera att encoder har 'UNKNOWN'\n",
    "    if 'UNKNOWN' not in le.classes_:\n",
    "        le.classes_ = np.append(le.classes_, 'UNKNOWN')\n",
    "        print(f\"✓ Lade till 'UNKNOWN' i encoder för '{col}' (saknades).\")\n",
    "\n",
    "    # Hämta kolumnvärden som 1D-array\n",
    "    col_values = df_planned_processed[col].to_numpy(dtype=object, copy=True)\n",
    "    X_1d_values = np.where(pd.isna(col_values), 'UNKNOWN', col_values).ravel()\n",
    "\n",
    "    # Skapa mappning från classes_ direkt\n",
    "    mapping_dict = {cls: idx for idx, cls in enumerate(le.classes_)}\n",
    "    unknown_index = mapping_dict.get('UNKNOWN', len(le.classes_) - 1)\n",
    "\n",
    "    # Mappa varje värde till sin kod (okända → UNKNOWN-index)\n",
    "    transformed_values = np.array([\n",
    "        mapping_dict.get(str(x), unknown_index)\n",
    "        for x in X_1d_values\n",
    "    ], dtype=np.int32)\n",
    "\n",
    "    # Debug-utskrift\n",
    "    print(\"-\" * 20)\n",
    "    print(f\"DEBUG {col}:\")\n",
    "    print(f\"  Längd på inputvärden: {len(X_1d_values)}\")\n",
    "    print(f\"  Längd på transformerade värden: {len(transformed_values)}\")\n",
    "    print(f\"  Första 5 kodade värden: {transformed_values[:5]}\")\n",
    "    print(\"-\" * 20)\n",
    "\n",
    "    # Lagra resultatet som Series\n",
    "    encoded_cols[col + '_encoded'] = pd.Series(transformed_values, index=index_to_use)\n",
    "    print(f\"✓ {col}_encoded tillagd i encoded_cols.\")\n",
    "\n",
    "# Slå ihop alla kodade kolumner med huvud-DataFrame\n",
    "if encoded_cols:\n",
    "    df_planned_processed = pd.concat([df_planned_processed, pd.DataFrame(encoded_cols)], axis=1)\n",
    "    print(f\"\\n✅ Alla {len(encoded_cols)} kodade kolumner sammanfogade. Ny shape: {df_planned_processed.shape}\\n\")\n",
    "else:\n",
    "    print(\"\\n⚠️ Inga kolumner kodades – kontrollera required_categorical_cols och encoders.\\n\")\n",
    "\n",
    "print(\"✓ Label Encoding slutförd.\\n\")\n",
    "\n",
    "\n",
    "\n",
    "# --- STEG 7: Välj features och skala ---\n",
    "try:\n",
    "    X_planned_raw = df_planned_processed[feature_cols]\n",
    "    print(f\"✓ Features valda: {len(feature_cols)} kolumner\")\n",
    "except KeyError as e:\n",
    "    print(f\"\\n❌ KRITISKT FEL: Saknade kolumner!\")\n",
    "    missing = set(feature_cols) - set(df_planned_processed.columns)\n",
    "    print(f\"Saknade kolumner ({len(missing)}):\")\n",
    "    for m in sorted(missing):\n",
    "        print(f\"  - {m}\")\n",
    "    raise\n",
    "\n",
    "# Hantera NaN\n",
    "nan_count = int(X_planned_raw.isnull().sum().sum())\n",
    "if nan_count > 0:\n",
    "    print(f\"⚠ Fyller {nan_count} NaN-värden med 0\")\n",
    "    X_planned_raw = X_planned_raw.fillna(0)\n",
    "\n",
    "# Skala\n",
    "X_planned_scaled = loaded_scaler.transform(X_planned_raw)\n",
    "print(f\"✓ Data skalad: {X_planned_scaled.shape}\\n\")\n",
    "\n",
    "\n",
    "# --- STEG 8: GÖR PREDIKTIONER ---\n",
    "print(\"🔮 Gör prediktioner...\\n\")\n",
    "predictions = loaded_model.predict(X_planned_scaled)\n",
    "probabilities = loaded_model.predict_proba(X_planned_scaled)[:, 1]\n",
    "\n",
    "df_planned_processed['Predicted_Delay'] = predictions\n",
    "df_planned_processed['Delay_Probability'] = probabilities\n",
    "\n",
    "# ******************************************************************\n",
    "# STATISTIK OM PREDIKTIONERNA\n",
    "# ******************************************************************\n",
    "num_delayed = int(predictions.sum())\n",
    "num_ontime = len(predictions) - num_delayed\n",
    "pct_delayed = (num_delayed / len(predictions)) * 100\n",
    "\n",
    "print(\"=\"*70)\n",
    "print(\"✅ PREDIKTIONER SLUTFÖRDA!\")\n",
    "print(\"=\"*70)\n",
    "print(f\"📊 Totalt antal tåg: {len(predictions):,}\")\n",
    "print(f\"🚨 Förutspådda förseningar: {num_delayed:,} ({pct_delayed:.1f}%)\")\n",
    "print(f\"✅ Förutspådda i tid: {num_ontime:,} ({100-pct_delayed:.1f}%)\")\n",
    "print(\"=\"*70)\n",
    "print()\n",
    "# ******************************************************************\n",
    "\n",
    "# Visa högrisktåg\n",
    "high_risk = df_planned_processed[df_planned_processed['Predicted_Delay'] == 1].sort_values(\n",
    "'Delay_Probability', ascending=False\n",
    ")\n",
    "\n",
    "if len(high_risk) > 0:\n",
    "    print(\"🚨 TOPP 15 HÖGRISKTÅG FÖR FÖRSENING:\")\n",
    "    print(\"-\" * 70)\n",
    " \n",
    "    # Välj kolumner att visa\n",
    "    display_cols = []\n",
    "    possible_cols = [\n",
    "        ('AdvertisedTrainIdent', 'Tåg ID'),\n",
    "        ('start_planned', 'Avgångstid'),\n",
    "        ('departure_station', 'Från Station'),\n",
    "        ('arrival_station', 'Till Station'),\n",
    "        ('Operator', 'Operatör'),\n",
    "        ('TrainOwner', 'Tågägare'),\n",
    "        ('DistanceKm', 'Distans (km)'),\n",
    "        ('any_canceled', 'Inställt'),       # Verka inte kunna skrivas ut\n",
    "        ('stops_count_col', 'Antal Stopp'), # Verka inte kunna skrivas ut\n",
    "        ('Delay_Probability', 'Risk (%)')\n",
    "        ]\n",
    "\n",
    "    for col, label in possible_cols:\n",
    "        if col in high_risk.columns:\n",
    "            display_cols.append(col)\n",
    "\n",
    "    # Formatera och visa\n",
    "    result = high_risk[display_cols].head(15).copy()\n",
    "\n",
    "    # Formatera sannolikhet som procent\n",
    "    if 'Delay_Probability' in result.columns:\n",
    "        result['Delay_Probability'] = (result['Delay_Probability'] * 100).round(1)\n",
    "\n",
    "    # Formatera distans\n",
    "    if 'DistanceKm' in result.columns:\n",
    "        result['DistanceKm'] = result['DistanceKm'].round(0)\n",
    "    \n",
    "    # Döp om kolumnnamnen för snygg presentation och visa\n",
    "    display_names = {k: v for k, v in possible_cols if k in display_cols}\n",
    "    display_result = result.rename(columns=display_names)\n",
    "    display_result = display_result.reset_index(drop=True)\n",
    "    display(display_result)\n",
    "\n",
    "    # Beräkna medelvärdet en gång (som ett värde mellan 0.0 och 1.0)\n",
    "    mean_prob = high_risk['Delay_Probability'].mean()\n",
    "\n",
    "    # Statistik om högrisktåg\n",
    "    print(\"\\n📈 STATISTIK FÖR HÖGRISKTÅG:\")\n",
    "    print(f\" • Medel sannolikhet:               {mean_prob*100:.1f}%\")\n",
    "    print(f\" • Max sannolikhet:                 {high_risk['Delay_Probability'].max()*100:.1f}%\")\n",
    "    print(f\" • Antal över 80% risk:             {(high_risk['Delay_Probability'] > 0.8).sum()} st\")\n",
    "    print(f\" • Antal över 90% risk:             {(high_risk['Delay_Probability'] > 0.9).sum()} st\")\n",
    "    print(f\" • Antal över medel {mean_prob*100:.1f}% risk:      {(high_risk['Delay_Probability'] > mean_prob).sum()} st\")\n",
    "\n",
    "else:\n",
    "    print(\"✅ Inga tåg förutspådda med försening!\")\n",
    "\n",
    "print()\n",
    "\n",
    "# --- STEG 9: EXPORTERA RESULTAT ---\n",
    "\n",
    "# DEFINIERA export_cols FÖRST (Lösning på NameError)\n",
    "export_cols = [col for col in ['AdvertisedTrainIdent', 'start_planned', 'departure_station', 'arrival_station',\n",
    "                               'Operator', 'TrainOwner', 'DistanceKm', 'DelayMinutes',\n",
    "                               'Predicted_Delay', 'Delay_Probability']\n",
    "               if col in df_planned_processed.columns]\n",
    "\n",
    "# Definiera och skapa mappen för export\n",
    "OUTPUT_DIR = 'predictions'\n",
    "if not os.path.exists(OUTPUT_DIR):\n",
    "    os.makedirs(OUTPUT_DIR)\n",
    "    print(f\"📦 Mappen '{OUTPUT_DIR}' skapades.\")\n",
    "\n",
    "# Tidsstämpel för filnamnen\n",
    "timestamp = pd.Timestamp.now().strftime(\"%Y%m%d_%H%M\")\n",
    "\n",
    "# Exportera alla prediktioner\n",
    "output_filename = f'predictions_all_{timestamp}.parquet'\n",
    "output_file_path = os.path.join(OUTPUT_DIR, output_filename)\n",
    "\n",
    "# Använder den definierade variabeln\n",
    "df_planned_processed[export_cols].to_parquet(output_file_path, index=False)\n",
    "print(f\"💾 Alla prediktioner exporterade till: {output_file_path}\")\n",
    "\n",
    "# Exportera endast högrisktåg\n",
    "if len(high_risk) > 0:\n",
    "    highrisk_filename = f'predictions_highrisk_{timestamp}.parquet'\n",
    "    highrisk_file_path = os.path.join(OUTPUT_DIR, highrisk_filename)\n",
    "    \n",
    "    # Använder den definierade variabeln\n",
    "    high_risk[export_cols].to_parquet(highrisk_file_path, index=False)\n",
    "    print(f\"🚨 Högrisktåg exporterade till: {highrisk_file_path}\")\n",
    "else:\n",
    "    print(\"Inga högrisktåg att exportera.\")\n",
    "\n",
    "print(\"\\n✅ ALLT KLART! 🎉\")"
   ]
  },
  {
   "cell_type": "code",
   "execution_count": 29,
   "id": "8a80e04d",
   "metadata": {},
   "outputs": [
    {
     "name": "stdout",
     "output_type": "stream",
     "text": [
      "['DistanceKm', 'start_hour', 'start_day_of_month', 'start_month', 'is_weekday', 'is_rush_hour', 'LocationSignatureDeparture_encoded', 'LocationSignatureArrival_encoded', 'Operator_encoded', 'TrainOwner_encoded', 'trip_typeoftraffic_encoded', 'departure_station_encoded', 'arrival_station_encoded']\n"
     ]
    }
   ],
   "source": [
    "print(feature_cols)\n"
   ]
  }
 ],
 "metadata": {
  "kernelspec": {
   "display_name": "adventureworks_env",
   "language": "python",
   "name": "python3"
  },
  "language_info": {
   "codemirror_mode": {
    "name": "ipython",
    "version": 3
   },
   "file_extension": ".py",
   "mimetype": "text/x-python",
   "name": "python",
   "nbconvert_exporter": "python",
   "pygments_lexer": "ipython3",
   "version": "3.12.11"
  }
 },
 "nbformat": 4,
 "nbformat_minor": 5
}
