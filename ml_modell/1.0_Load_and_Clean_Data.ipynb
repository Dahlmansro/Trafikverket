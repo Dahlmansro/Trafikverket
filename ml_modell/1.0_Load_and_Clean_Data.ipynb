{
 "cells": [
  {
   "cell_type": "code",
   "execution_count": 1,
   "id": "825e8f57",
   "metadata": {},
   "outputs": [
    {
     "name": "stdout",
     "output_type": "stream",
     "text": [
      "✅ Filen 'data\\df_planned_2025-10-24.parquet' laddades in framgångsrikt.\n",
      "Antal rader i DataFrame: 2,814\n",
      "\n",
      "Första 5 raderna:\n"
     ]
    },
    {
     "data": {
      "application/vnd.microsoft.datawrangler.viewer.v0+json": {
       "columns": [
        {
         "name": "index",
         "rawType": "int64",
         "type": "integer"
        },
        {
         "name": "AdvertisedTrainIdent",
         "rawType": "object",
         "type": "string"
        },
        {
         "name": "service_date",
         "rawType": "datetime64[ns]",
         "type": "datetime"
        },
        {
         "name": "Tripdate",
         "rawType": "datetime64[ns]",
         "type": "datetime"
        },
        {
         "name": "start_planned",
         "rawType": "datetime64[ns]",
         "type": "datetime"
        },
        {
         "name": "end_planned",
         "rawType": "datetime64[ns]",
         "type": "datetime"
        },
        {
         "name": "duration_minutes",
         "rawType": "float64",
         "type": "float"
        },
        {
         "name": "start_station",
         "rawType": "object",
         "type": "string"
        },
        {
         "name": "end_station",
         "rawType": "object",
         "type": "string"
        },
        {
         "name": "stops_count",
         "rawType": "int64",
         "type": "integer"
        },
        {
         "name": "through_stations",
         "rawType": "object",
         "type": "string"
        },
        {
         "name": "any_canceled",
         "rawType": "Int8",
         "type": "integer"
        },
        {
         "name": "Operator",
         "rawType": "object",
         "type": "string"
        },
        {
         "name": "TrainOwner",
         "rawType": "object",
         "type": "string"
        },
        {
         "name": "FromLocations",
         "rawType": "object",
         "type": "string"
        },
        {
         "name": "ToLocations",
         "rawType": "object",
         "type": "string"
        },
        {
         "name": "start_operator",
         "rawType": "object",
         "type": "string"
        },
        {
         "name": "start_owner",
         "rawType": "object",
         "type": "string"
        },
        {
         "name": "start_typeoftraffic",
         "rawType": "object",
         "type": "unknown"
        },
        {
         "name": "start_deviation",
         "rawType": "object",
         "type": "unknown"
        },
        {
         "name": "start_hour",
         "rawType": "int64",
         "type": "integer"
        },
        {
         "name": "start_weekday_",
         "rawType": "int64",
         "type": "integer"
        },
        {
         "name": "start_mounth",
         "rawType": "int64",
         "type": "integer"
        },
        {
         "name": "is_weekday",
         "rawType": "int64",
         "type": "integer"
        },
        {
         "name": "distance_km",
         "rawType": "float64",
         "type": "float"
        }
       ],
       "ref": "ec1fd3bc-e204-4ce2-846a-7fe4da0a1d4b",
       "rows": [
        [
         "0",
         "1",
         "2025-10-24 00:00:00",
         "2025-10-24 00:00:00",
         "2025-10-24 22:56:00",
         "2025-10-24 23:27:00",
         "31.0",
         "NR",
         "LP",
         "2",
         "NR,LP",
         "0",
         "SJ",
         "SJ",
         "Cst",
         "Mc",
         "SJ",
         "SJ",
         null,
         null,
         "22",
         "4",
         "10",
         "1",
         "38.017"
        ],
        [
         "1",
         "1",
         "2025-10-25 00:00:00",
         "2025-10-25 00:00:00",
         "2025-10-25 01:16:00",
         "2025-10-25 04:59:00",
         "223.0",
         "N",
         "MC",
         "6",
         "N,AV,HM,HB,LU,MC",
         "0",
         "SJ",
         "SJ",
         "Cst",
         "Mc",
         "SJ",
         "SJ",
         null,
         null,
         "1",
         "5",
         "10",
         "0",
         "249.538"
        ],
        [
         "2",
         "10",
         "2025-10-25 00:00:00",
         "2025-10-25 00:00:00",
         "2025-10-25 08:52:00",
         "2025-10-25 17:51:00",
         "539.0",
         "CST",
         "DU",
         "13",
         "CST,VÅ,SHV,HKL,SUC,ÅG,BÄ,ÖS,KRM,JPN,UN,ÅRE,DU",
         "0",
         "SJ",
         "SJ",
         "Cst",
         "Du",
         "SJ",
         "SJ",
         null,
         null,
         "8",
         "5",
         "10",
         "0",
         "527.675"
        ],
        [
         "3",
         "1001",
         "2025-10-25 00:00:00",
         "2025-10-25 00:00:00",
         "2025-10-25 01:49:00",
         "2025-10-25 02:09:00",
         "20.0",
         "LU",
         "HIE",
         "5",
         "LU,BLV,MC,TRI,HIE",
         "0",
         "TDEV",
         "SKANE",
         "Lu",
         "Dk.kh",
         "TDEV",
         "Ö-TÅG",
         null,
         null,
         "1",
         "5",
         "10",
         "0",
         "20.757"
        ],
        [
         "4",
         "1004",
         "2025-10-25 00:00:00",
         "2025-10-25 00:00:00",
         "2025-10-25 03:18:00",
         "2025-10-25 03:39:00",
         "21.0",
         "HIE",
         "LU",
         "5",
         "HIE,TRI,MC,BLV,LU",
         "0",
         "TDEV",
         "SKANE",
         "Dk.kh",
         "Lu",
         "TDEV",
         "SKANE",
         null,
         null,
         "3",
         "5",
         "10",
         "0",
         "20.757"
        ]
       ],
       "shape": {
        "columns": 24,
        "rows": 5
       }
      },
      "text/html": [
       "<div>\n",
       "<style scoped>\n",
       "    .dataframe tbody tr th:only-of-type {\n",
       "        vertical-align: middle;\n",
       "    }\n",
       "\n",
       "    .dataframe tbody tr th {\n",
       "        vertical-align: top;\n",
       "    }\n",
       "\n",
       "    .dataframe thead th {\n",
       "        text-align: right;\n",
       "    }\n",
       "</style>\n",
       "<table border=\"1\" class=\"dataframe\">\n",
       "  <thead>\n",
       "    <tr style=\"text-align: right;\">\n",
       "      <th></th>\n",
       "      <th>AdvertisedTrainIdent</th>\n",
       "      <th>service_date</th>\n",
       "      <th>Tripdate</th>\n",
       "      <th>start_planned</th>\n",
       "      <th>end_planned</th>\n",
       "      <th>duration_minutes</th>\n",
       "      <th>start_station</th>\n",
       "      <th>end_station</th>\n",
       "      <th>stops_count</th>\n",
       "      <th>through_stations</th>\n",
       "      <th>...</th>\n",
       "      <th>ToLocations</th>\n",
       "      <th>start_operator</th>\n",
       "      <th>start_owner</th>\n",
       "      <th>start_typeoftraffic</th>\n",
       "      <th>start_deviation</th>\n",
       "      <th>start_hour</th>\n",
       "      <th>start_weekday_</th>\n",
       "      <th>start_mounth</th>\n",
       "      <th>is_weekday</th>\n",
       "      <th>distance_km</th>\n",
       "    </tr>\n",
       "  </thead>\n",
       "  <tbody>\n",
       "    <tr>\n",
       "      <th>0</th>\n",
       "      <td>1</td>\n",
       "      <td>2025-10-24</td>\n",
       "      <td>2025-10-24</td>\n",
       "      <td>2025-10-24 22:56:00</td>\n",
       "      <td>2025-10-24 23:27:00</td>\n",
       "      <td>31.0</td>\n",
       "      <td>NR</td>\n",
       "      <td>LP</td>\n",
       "      <td>2</td>\n",
       "      <td>NR,LP</td>\n",
       "      <td>...</td>\n",
       "      <td>Mc</td>\n",
       "      <td>SJ</td>\n",
       "      <td>SJ</td>\n",
       "      <td>None</td>\n",
       "      <td>None</td>\n",
       "      <td>22</td>\n",
       "      <td>4</td>\n",
       "      <td>10</td>\n",
       "      <td>1</td>\n",
       "      <td>38.017</td>\n",
       "    </tr>\n",
       "    <tr>\n",
       "      <th>1</th>\n",
       "      <td>1</td>\n",
       "      <td>2025-10-25</td>\n",
       "      <td>2025-10-25</td>\n",
       "      <td>2025-10-25 01:16:00</td>\n",
       "      <td>2025-10-25 04:59:00</td>\n",
       "      <td>223.0</td>\n",
       "      <td>N</td>\n",
       "      <td>MC</td>\n",
       "      <td>6</td>\n",
       "      <td>N,AV,HM,HB,LU,MC</td>\n",
       "      <td>...</td>\n",
       "      <td>Mc</td>\n",
       "      <td>SJ</td>\n",
       "      <td>SJ</td>\n",
       "      <td>None</td>\n",
       "      <td>None</td>\n",
       "      <td>1</td>\n",
       "      <td>5</td>\n",
       "      <td>10</td>\n",
       "      <td>0</td>\n",
       "      <td>249.538</td>\n",
       "    </tr>\n",
       "    <tr>\n",
       "      <th>2</th>\n",
       "      <td>10</td>\n",
       "      <td>2025-10-25</td>\n",
       "      <td>2025-10-25</td>\n",
       "      <td>2025-10-25 08:52:00</td>\n",
       "      <td>2025-10-25 17:51:00</td>\n",
       "      <td>539.0</td>\n",
       "      <td>CST</td>\n",
       "      <td>DU</td>\n",
       "      <td>13</td>\n",
       "      <td>CST,VÅ,SHV,HKL,SUC,ÅG,BÄ,ÖS,KRM,JPN,UN,ÅRE,DU</td>\n",
       "      <td>...</td>\n",
       "      <td>Du</td>\n",
       "      <td>SJ</td>\n",
       "      <td>SJ</td>\n",
       "      <td>None</td>\n",
       "      <td>None</td>\n",
       "      <td>8</td>\n",
       "      <td>5</td>\n",
       "      <td>10</td>\n",
       "      <td>0</td>\n",
       "      <td>527.675</td>\n",
       "    </tr>\n",
       "    <tr>\n",
       "      <th>3</th>\n",
       "      <td>1001</td>\n",
       "      <td>2025-10-25</td>\n",
       "      <td>2025-10-25</td>\n",
       "      <td>2025-10-25 01:49:00</td>\n",
       "      <td>2025-10-25 02:09:00</td>\n",
       "      <td>20.0</td>\n",
       "      <td>LU</td>\n",
       "      <td>HIE</td>\n",
       "      <td>5</td>\n",
       "      <td>LU,BLV,MC,TRI,HIE</td>\n",
       "      <td>...</td>\n",
       "      <td>Dk.kh</td>\n",
       "      <td>TDEV</td>\n",
       "      <td>Ö-TÅG</td>\n",
       "      <td>None</td>\n",
       "      <td>None</td>\n",
       "      <td>1</td>\n",
       "      <td>5</td>\n",
       "      <td>10</td>\n",
       "      <td>0</td>\n",
       "      <td>20.757</td>\n",
       "    </tr>\n",
       "    <tr>\n",
       "      <th>4</th>\n",
       "      <td>1004</td>\n",
       "      <td>2025-10-25</td>\n",
       "      <td>2025-10-25</td>\n",
       "      <td>2025-10-25 03:18:00</td>\n",
       "      <td>2025-10-25 03:39:00</td>\n",
       "      <td>21.0</td>\n",
       "      <td>HIE</td>\n",
       "      <td>LU</td>\n",
       "      <td>5</td>\n",
       "      <td>HIE,TRI,MC,BLV,LU</td>\n",
       "      <td>...</td>\n",
       "      <td>Lu</td>\n",
       "      <td>TDEV</td>\n",
       "      <td>SKANE</td>\n",
       "      <td>None</td>\n",
       "      <td>None</td>\n",
       "      <td>3</td>\n",
       "      <td>5</td>\n",
       "      <td>10</td>\n",
       "      <td>0</td>\n",
       "      <td>20.757</td>\n",
       "    </tr>\n",
       "  </tbody>\n",
       "</table>\n",
       "<p>5 rows × 24 columns</p>\n",
       "</div>"
      ],
      "text/plain": [
       "  AdvertisedTrainIdent service_date   Tripdate       start_planned  \\\n",
       "0                    1   2025-10-24 2025-10-24 2025-10-24 22:56:00   \n",
       "1                    1   2025-10-25 2025-10-25 2025-10-25 01:16:00   \n",
       "2                   10   2025-10-25 2025-10-25 2025-10-25 08:52:00   \n",
       "3                 1001   2025-10-25 2025-10-25 2025-10-25 01:49:00   \n",
       "4                 1004   2025-10-25 2025-10-25 2025-10-25 03:18:00   \n",
       "\n",
       "          end_planned  duration_minutes start_station end_station  \\\n",
       "0 2025-10-24 23:27:00              31.0            NR          LP   \n",
       "1 2025-10-25 04:59:00             223.0             N          MC   \n",
       "2 2025-10-25 17:51:00             539.0           CST          DU   \n",
       "3 2025-10-25 02:09:00              20.0            LU         HIE   \n",
       "4 2025-10-25 03:39:00              21.0           HIE          LU   \n",
       "\n",
       "   stops_count                               through_stations  ...  \\\n",
       "0            2                                          NR,LP  ...   \n",
       "1            6                               N,AV,HM,HB,LU,MC  ...   \n",
       "2           13  CST,VÅ,SHV,HKL,SUC,ÅG,BÄ,ÖS,KRM,JPN,UN,ÅRE,DU  ...   \n",
       "3            5                              LU,BLV,MC,TRI,HIE  ...   \n",
       "4            5                              HIE,TRI,MC,BLV,LU  ...   \n",
       "\n",
       "   ToLocations start_operator start_owner start_typeoftraffic start_deviation  \\\n",
       "0           Mc             SJ          SJ                None            None   \n",
       "1           Mc             SJ          SJ                None            None   \n",
       "2           Du             SJ          SJ                None            None   \n",
       "3        Dk.kh           TDEV       Ö-TÅG                None            None   \n",
       "4           Lu           TDEV       SKANE                None            None   \n",
       "\n",
       "  start_hour start_weekday_ start_mounth is_weekday  distance_km  \n",
       "0         22              4           10          1       38.017  \n",
       "1          1              5           10          0      249.538  \n",
       "2          8              5           10          0      527.675  \n",
       "3          1              5           10          0       20.757  \n",
       "4          3              5           10          0       20.757  \n",
       "\n",
       "[5 rows x 24 columns]"
      ]
     },
     "metadata": {},
     "output_type": "display_data"
    },
    {
     "name": "stdout",
     "output_type": "stream",
     "text": [
      "\n",
      "Kolumninformation:\n",
      "<class 'pandas.core.frame.DataFrame'>\n",
      "RangeIndex: 2814 entries, 0 to 2813\n",
      "Data columns (total 24 columns):\n",
      " #   Column                Non-Null Count  Dtype         \n",
      "---  ------                --------------  -----         \n",
      " 0   AdvertisedTrainIdent  2814 non-null   object        \n",
      " 1   service_date          2814 non-null   datetime64[ns]\n",
      " 2   Tripdate              2814 non-null   datetime64[ns]\n",
      " 3   start_planned         2814 non-null   datetime64[ns]\n",
      " 4   end_planned           2814 non-null   datetime64[ns]\n",
      " 5   duration_minutes      2814 non-null   float64       \n",
      " 6   start_station         2814 non-null   object        \n",
      " 7   end_station           2814 non-null   object        \n",
      " 8   stops_count           2814 non-null   int64         \n",
      " 9   through_stations      2814 non-null   object        \n",
      " 10  any_canceled          2814 non-null   Int8          \n",
      " 11  Operator              2814 non-null   object        \n",
      " 12  TrainOwner            2413 non-null   object        \n",
      " 13  FromLocations         2814 non-null   object        \n",
      " 14  ToLocations           2814 non-null   object        \n",
      " 15  start_operator        2814 non-null   object        \n",
      " 16  start_owner           2413 non-null   object        \n",
      " 17  start_typeoftraffic   0 non-null      object        \n",
      " 18  start_deviation       0 non-null      object        \n",
      " 19  start_hour            2814 non-null   int64         \n",
      " 20  start_weekday_        2814 non-null   int64         \n",
      " 21  start_mounth          2814 non-null   int64         \n",
      " 22  is_weekday            2814 non-null   int64         \n",
      " 23  distance_km           2814 non-null   float64       \n",
      "dtypes: Int8(1), datetime64[ns](4), float64(2), int64(5), object(12)\n",
      "memory usage: 511.3+ KB\n"
     ]
    }
   ],
   "source": [
    "import pandas as pd\n",
    "import os\n",
    "\n",
    "# 1. Definiera sökvägen till filen\n",
    "file_path = os.path.join('data', 'df_planned_2025-10-24.parquet')\n",
    "\n",
    "try:\n",
    "    # 2. Läs in Parquet-filen till en DataFrame\n",
    "    df_trips = pd.read_parquet(file_path)\n",
    "    \n",
    "    print(f\"✅ Filen '{file_path}' laddades in framgångsrikt.\")\n",
    "    print(f\"Antal rader i DataFrame: {len(df_trips):,}\")\n",
    "    print(\"\\nFörsta 5 raderna:\")\n",
    "    \n",
    "    # 3. Skriv ut de första 5 raderna för att inspektera datat\n",
    "    display(df_trips.head())\n",
    "    \n",
    "    # 4. Visa information om kolumner och datatyper (bra för datatvätt)\n",
    "    print(\"\\nKolumninformation:\")\n",
    "    df_trips.info()\n",
    "    \n",
    "except FileNotFoundError:\n",
    "    print(f\"❌ Fel: Filen hittades inte på sökvägen '{file_path}'. Kontrollera filnamnet och mappen.\")\n",
    "except Exception as e:\n",
    "    print(f\"❌ Ett oväntat fel uppstod: {e}\")"
   ]
  },
  {
   "cell_type": "code",
   "execution_count": 3,
   "id": "7608a9d1",
   "metadata": {},
   "outputs": [
    {
     "data": {
      "application/vnd.microsoft.datawrangler.viewer.v0+json": {
       "columns": [
        {
         "name": "any_canceled",
         "rawType": "Int8",
         "type": "integer"
        },
        {
         "name": "count",
         "rawType": "Int64",
         "type": "integer"
        }
       ],
       "ref": "b8add748-d781-4b50-af4b-1e3f096a337a",
       "rows": [
        [
         "0",
         "2660"
        ],
        [
         "1",
         "154"
        ]
       ],
       "shape": {
        "columns": 1,
        "rows": 2
       }
      },
      "text/plain": [
       "any_canceled\n",
       "0    2660\n",
       "1     154\n",
       "Name: count, dtype: Int64"
      ]
     },
     "execution_count": 3,
     "metadata": {},
     "output_type": "execute_result"
    }
   ],
   "source": [
    "df_trips['any_canceled'].value_counts()"
   ]
  },
  {
   "cell_type": "code",
   "execution_count": null,
   "id": "01de29a6",
   "metadata": {},
   "outputs": [],
   "source": []
  }
 ],
 "metadata": {
  "kernelspec": {
   "display_name": "venv",
   "language": "python",
   "name": "python3"
  },
  "language_info": {
   "codemirror_mode": {
    "name": "ipython",
    "version": 3
   },
   "file_extension": ".py",
   "mimetype": "text/x-python",
   "name": "python",
   "nbconvert_exporter": "python",
   "pygments_lexer": "ipython3",
   "version": "3.13.3"
  }
 },
 "nbformat": 4,
 "nbformat_minor": 5
}
